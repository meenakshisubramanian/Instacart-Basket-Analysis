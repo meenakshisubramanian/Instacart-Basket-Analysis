{
 "cells": [
  {
   "cell_type": "code",
   "execution_count": 7,
   "id": "f6553bf8",
   "metadata": {
    "_cell_guid": "b1076dfc-b9ad-4769-8c92-a6c4dae69d19",
    "_uuid": "8f2839f25d086af736a60e9eeb907d3b93b6e0e5",
    "papermill": {
     "duration": 4.117972,
     "end_time": "2025-05-07T20:04:27.988826",
     "exception": false,
     "start_time": "2025-05-07T20:04:23.870854",
     "status": "completed"
    },
    "tags": []
   },
   "outputs": [],
   "source": [
    "# This Python 3 environment comes with many helpful analytics libraries installed\n",
    "# It is defined by the kaggle/python Docker image: https://github.com/kaggle/docker-python\n",
    "# For example, here's several helpful packages to load\n",
    "\n",
    "import pandas as pd\n",
    "import numpy as np\n",
    "import os\n",
    "import matplotlib.pyplot as plt\n",
    "import seaborn as sns\n",
    "import scipy\n",
    "\n",
    "# Input data files are available in the read-only \"../input/\" directory\n",
    "# For example, running this (by clicking run or pressing Shift+Enter) will list all files under the input directory\n",
    "\n",
    "import os\n",
    "for dirname, _, filenames in os.walk('/kaggle/input'):\n",
    "    for filename in filenames:\n",
    "        print(os.path.join(dirname, filename))\n",
    "\n",
    "# You can write up to 20GB to the current directory (/kaggle/working/) that gets preserved as output when you create a version using \"Save & Run All\" \n",
    "# You can also write temporary files to /kaggle/temp/, but they won't be saved outside of the current session"
   ]
  },
  {
   "cell_type": "markdown",
   "id": "c6f59dba",
   "metadata": {
    "papermill": {
     "duration": 0.007906,
     "end_time": "2025-05-07T20:04:28.004194",
     "exception": false,
     "start_time": "2025-05-07T20:04:27.996288",
     "status": "completed"
    },
    "tags": []
   },
   "source": [
    "1.Import the data set you exported in Exercise 4.9 into a new Jupyter notebook. This should be the merged version of your data that contains the new customers column."
   ]
  },
  {
   "cell_type": "code",
   "execution_count": 5,
   "id": "83383ddc",
   "metadata": {
    "papermill": {
     "duration": 54.16817,
     "end_time": "2025-05-07T20:05:22.178841",
     "exception": false,
     "start_time": "2025-05-07T20:04:28.010671",
     "status": "completed"
    },
    "tags": []
   },
   "outputs": [
    {
     "ename": "FileNotFoundError",
     "evalue": "[Errno 2] No such file or directory: '/kaggle/input/opcmerged/orders_products_customers_merged.pkl'",
     "output_type": "error",
     "traceback": [
      "\u001b[1;31m---------------------------------------------------------------------------\u001b[0m",
      "\u001b[1;31mFileNotFoundError\u001b[0m                         Traceback (most recent call last)",
      "Cell \u001b[1;32mIn[5], line 2\u001b[0m\n\u001b[0;32m      1\u001b[0m \u001b[38;5;66;03m# importing the last saved , orders,products,customers merged dataset from prepared data\u001b[39;00m\n\u001b[1;32m----> 2\u001b[0m df_merged\u001b[38;5;241m=\u001b[39mpd\u001b[38;5;241m.\u001b[39mread_pickle(\u001b[38;5;124m'\u001b[39m\u001b[38;5;124m/kaggle/input/opcmerged/orders_products_customers_merged.pkl\u001b[39m\u001b[38;5;124m'\u001b[39m)\n",
      "File \u001b[1;32m~\\anaconda3\\Lib\\site-packages\\pandas\\io\\pickle.py:185\u001b[0m, in \u001b[0;36mread_pickle\u001b[1;34m(filepath_or_buffer, compression, storage_options)\u001b[0m\n\u001b[0;32m    123\u001b[0m \u001b[38;5;250m\u001b[39m\u001b[38;5;124;03m\"\"\"\u001b[39;00m\n\u001b[0;32m    124\u001b[0m \u001b[38;5;124;03mLoad pickled pandas object (or any object) from file.\u001b[39;00m\n\u001b[0;32m    125\u001b[0m \n\u001b[1;32m   (...)\u001b[0m\n\u001b[0;32m    182\u001b[0m \u001b[38;5;124;03m4    4    9\u001b[39;00m\n\u001b[0;32m    183\u001b[0m \u001b[38;5;124;03m\"\"\"\u001b[39;00m\n\u001b[0;32m    184\u001b[0m excs_to_catch \u001b[38;5;241m=\u001b[39m (\u001b[38;5;167;01mAttributeError\u001b[39;00m, \u001b[38;5;167;01mImportError\u001b[39;00m, \u001b[38;5;167;01mModuleNotFoundError\u001b[39;00m, \u001b[38;5;167;01mTypeError\u001b[39;00m)\n\u001b[1;32m--> 185\u001b[0m \u001b[38;5;28;01mwith\u001b[39;00m get_handle(\n\u001b[0;32m    186\u001b[0m     filepath_or_buffer,\n\u001b[0;32m    187\u001b[0m     \u001b[38;5;124m\"\u001b[39m\u001b[38;5;124mrb\u001b[39m\u001b[38;5;124m\"\u001b[39m,\n\u001b[0;32m    188\u001b[0m     compression\u001b[38;5;241m=\u001b[39mcompression,\n\u001b[0;32m    189\u001b[0m     is_text\u001b[38;5;241m=\u001b[39m\u001b[38;5;28;01mFalse\u001b[39;00m,\n\u001b[0;32m    190\u001b[0m     storage_options\u001b[38;5;241m=\u001b[39mstorage_options,\n\u001b[0;32m    191\u001b[0m ) \u001b[38;5;28;01mas\u001b[39;00m handles:\n\u001b[0;32m    192\u001b[0m     \u001b[38;5;66;03m# 1) try standard library Pickle\u001b[39;00m\n\u001b[0;32m    193\u001b[0m     \u001b[38;5;66;03m# 2) try pickle_compat (older pandas version) to handle subclass changes\u001b[39;00m\n\u001b[0;32m    194\u001b[0m     \u001b[38;5;66;03m# 3) try pickle_compat with latin-1 encoding upon a UnicodeDecodeError\u001b[39;00m\n\u001b[0;32m    196\u001b[0m     \u001b[38;5;28;01mtry\u001b[39;00m:\n\u001b[0;32m    197\u001b[0m         \u001b[38;5;66;03m# TypeError for Cython complaints about object.__new__ vs Tick.__new__\u001b[39;00m\n\u001b[0;32m    198\u001b[0m         \u001b[38;5;28;01mtry\u001b[39;00m:\n",
      "File \u001b[1;32m~\\anaconda3\\Lib\\site-packages\\pandas\\io\\common.py:882\u001b[0m, in \u001b[0;36mget_handle\u001b[1;34m(path_or_buf, mode, encoding, compression, memory_map, is_text, errors, storage_options)\u001b[0m\n\u001b[0;32m    873\u001b[0m         handle \u001b[38;5;241m=\u001b[39m \u001b[38;5;28mopen\u001b[39m(\n\u001b[0;32m    874\u001b[0m             handle,\n\u001b[0;32m    875\u001b[0m             ioargs\u001b[38;5;241m.\u001b[39mmode,\n\u001b[1;32m   (...)\u001b[0m\n\u001b[0;32m    878\u001b[0m             newline\u001b[38;5;241m=\u001b[39m\u001b[38;5;124m\"\u001b[39m\u001b[38;5;124m\"\u001b[39m,\n\u001b[0;32m    879\u001b[0m         )\n\u001b[0;32m    880\u001b[0m     \u001b[38;5;28;01melse\u001b[39;00m:\n\u001b[0;32m    881\u001b[0m         \u001b[38;5;66;03m# Binary mode\u001b[39;00m\n\u001b[1;32m--> 882\u001b[0m         handle \u001b[38;5;241m=\u001b[39m \u001b[38;5;28mopen\u001b[39m(handle, ioargs\u001b[38;5;241m.\u001b[39mmode)\n\u001b[0;32m    883\u001b[0m     handles\u001b[38;5;241m.\u001b[39mappend(handle)\n\u001b[0;32m    885\u001b[0m \u001b[38;5;66;03m# Convert BytesIO or file objects passed with an encoding\u001b[39;00m\n",
      "\u001b[1;31mFileNotFoundError\u001b[0m: [Errno 2] No such file or directory: '/kaggle/input/opcmerged/orders_products_customers_merged.pkl'"
     ]
    }
   ],
   "source": [
    "# importing the last saved , orders,products,customers merged dataset from prepared data\n",
    "df_merged=pd.read_pickle('/kaggle/input/opcmerged/orders_products_customers_merged.pkl')"
   ]
  },
  {
   "cell_type": "code",
   "execution_count": null,
   "id": "43a2f83d",
   "metadata": {
    "papermill": {
     "duration": 0.527891,
     "end_time": "2025-05-07T20:05:22.713878",
     "exception": false,
     "start_time": "2025-05-07T20:05:22.185987",
     "status": "completed"
    },
    "tags": []
   },
   "outputs": [],
   "source": [
    "df_customerfile=pd.read_csv('/kaggle/input/customerfile/customers.csv')"
   ]
  },
  {
   "cell_type": "markdown",
   "id": "26522aa5",
   "metadata": {
    "papermill": {
     "duration": 0.006758,
     "end_time": "2025-05-07T20:05:22.727227",
     "exception": false,
     "start_time": "2025-05-07T20:05:22.720469",
     "status": "completed"
    },
    "tags": []
   },
   "source": [
    "2.Consider any security implications that might exist for this new data. You’ll need to address any PII data in the data before continuing your analysis."
   ]
  },
  {
   "cell_type": "code",
   "execution_count": 4,
   "id": "b508bb55",
   "metadata": {
    "execution": {
     "iopub.execute_input": "2025-05-07T20:05:22.741407Z",
     "iopub.status.busy": "2025-05-07T20:05:22.741071Z",
     "iopub.status.idle": "2025-05-07T20:05:23.038644Z",
     "shell.execute_reply": "2025-05-07T20:05:23.037082Z"
    },
    "papermill": {
     "duration": 0.307353,
     "end_time": "2025-05-07T20:05:23.041122",
     "exception": false,
     "start_time": "2025-05-07T20:05:22.733769",
     "status": "completed"
    },
    "tags": []
   },
   "outputs": [],
   "source": [
    "df_merged['Region']= 'unknown'"
   ]
  },
  {
   "cell_type": "markdown",
   "id": "63e3f798",
   "metadata": {
    "papermill": {
     "duration": 0.01024,
     "end_time": "2025-05-07T20:05:23.063055",
     "exception": false,
     "start_time": "2025-05-07T20:05:23.052815",
     "status": "completed"
    },
    "tags": []
   },
   "source": [
    "3.Create a regional segmentation of the data. You’ll need to create a “Region” column based on the “State” column from your customers data set."
   ]
  },
  {
   "cell_type": "code",
   "execution_count": 5,
   "id": "1a7355ea",
   "metadata": {
    "execution": {
     "iopub.execute_input": "2025-05-07T20:05:23.087664Z",
     "iopub.status.busy": "2025-05-07T20:05:23.087073Z",
     "iopub.status.idle": "2025-05-07T20:05:45.273223Z",
     "shell.execute_reply": "2025-05-07T20:05:45.272204Z"
    },
    "papermill": {
     "duration": 22.199004,
     "end_time": "2025-05-07T20:05:45.275045",
     "exception": false,
     "start_time": "2025-05-07T20:05:23.076041",
     "status": "completed"
    },
    "tags": []
   },
   "outputs": [],
   "source": [
    "# Assigning regions ( Region 1 Northeast) based on Division 1( England) and  Division 2(Middle Atlantic)\n",
    "# Division 1\n",
    "df_merged.loc[df_merged['state']=='Maine', 'Region']= 'Northeast'\n",
    "df_merged.loc[df_merged['state']=='New Hampshire', 'Region']= 'Northeast'\n",
    "df_merged.loc[df_merged['state']=='Vermont', 'Region']= 'Northeast'\n",
    "df_merged.loc[df_merged['state']=='Massachusetts', 'Region']= 'Northeast'\n",
    "df_merged.loc[df_merged['state']=='Rhode Island', 'Region']= 'Northeast'\n",
    "df_merged.loc[df_merged['state']=='Connecticut', 'Region']= 'Northeast'\n",
    "# Division 2\n",
    "df_merged.loc[df_merged['state']=='New York', 'Region']= 'Northeast'\n",
    "df_merged.loc[df_merged['state']=='Pennsylvania', 'Region']= 'Northeast'\n",
    "df_merged.loc[df_merged['state']=='New Jersey', 'Region']= 'Northeast'\n"
   ]
  },
  {
   "cell_type": "code",
   "execution_count": 6,
   "id": "f92b0e9b",
   "metadata": {
    "execution": {
     "iopub.execute_input": "2025-05-07T20:05:45.290106Z",
     "iopub.status.busy": "2025-05-07T20:05:45.289397Z",
     "iopub.status.idle": "2025-05-07T20:06:15.096803Z",
     "shell.execute_reply": "2025-05-07T20:06:15.095676Z"
    },
    "papermill": {
     "duration": 29.816617,
     "end_time": "2025-05-07T20:06:15.098654",
     "exception": false,
     "start_time": "2025-05-07T20:05:45.282037",
     "status": "completed"
    },
    "tags": []
   },
   "outputs": [],
   "source": [
    "# Assigning regions ( Region 2 Midwest ) based on Division 3 (East North Central and Division 4 (West North Central) \n",
    "# Division 3 (East North Central\n",
    "df_merged.loc[df_merged['state']=='Wisconsin', 'Region']= 'Midwest'\n",
    "df_merged.loc[df_merged['state']=='Michigan', 'Region']= 'Midwest'\n",
    "df_merged.loc[df_merged['state']=='Illinois', 'Region']= 'Midwest'\n",
    "df_merged.loc[df_merged['state']=='Indiana', 'Region']= 'Midwest'\n",
    "df_merged.loc[df_merged['state']=='Ohio', 'Region']= 'Midwest'\n",
    "# Division 4 (West North Central\n",
    "df_merged.loc[df_merged['state']=='North Dakota', 'Region']= 'Midwest'\n",
    "df_merged.loc[df_merged['state']=='South Dakota', 'Region']= 'Midwest'\n",
    "df_merged.loc[df_merged['state']=='Nebraska', 'Region']= 'Midwest'\n",
    "df_merged.loc[df_merged['state']=='Kansas', 'Region']= 'Midwest'\n",
    "df_merged.loc[df_merged['state']=='Minnesota', 'Region']= 'Midwest'\n",
    "df_merged.loc[df_merged['state']=='Iowa', 'Region']= 'Midwest'\n",
    "df_merged.loc[df_merged['state']=='Missouri', 'Region']= 'Midwest'\n"
   ]
  },
  {
   "cell_type": "code",
   "execution_count": 7,
   "id": "e661a535",
   "metadata": {
    "execution": {
     "iopub.execute_input": "2025-05-07T20:06:15.113554Z",
     "iopub.status.busy": "2025-05-07T20:06:15.113160Z",
     "iopub.status.idle": "2025-05-07T20:06:57.386116Z",
     "shell.execute_reply": "2025-05-07T20:06:57.385038Z"
    },
    "papermill": {
     "duration": 42.282438,
     "end_time": "2025-05-07T20:06:57.388033",
     "exception": false,
     "start_time": "2025-05-07T20:06:15.105595",
     "status": "completed"
    },
    "tags": []
   },
   "outputs": [],
   "source": [
    "# Assigning regions (Region 3 South ) based on Division 5 (South Atlantic) and Division 6 (East South Central)\n",
    "# Division 5 (South Atlantic)\n",
    "df_merged.loc[df_merged['state']=='Delaware', 'Region']= 'South'\n",
    "df_merged.loc[df_merged['state']=='Maryland', 'Region']= 'South'\n",
    "df_merged.loc[df_merged['state']=='District of Columbia', 'Region']= 'South'\n",
    "df_merged.loc[df_merged['state']=='Virginia', 'Region']= 'South'\n",
    "df_merged.loc[df_merged['state']=='West Virginia', 'Region']= 'South'\n",
    "df_merged.loc[df_merged['state']=='North Carolina', 'Region']= 'South'\n",
    "df_merged.loc[df_merged['state']=='South Carolina', 'Region']= 'South'\n",
    "df_merged.loc[df_merged['state']=='Georgia', 'Region']= 'South'\n",
    "df_merged.loc[df_merged['state']=='Florida', 'Region']= 'South'\n",
    "# Division 6 (East South Central)\n",
    "df_merged.loc[df_merged['state']=='Kentucky', 'Region']= 'South'\n",
    "df_merged.loc[df_merged['state']=='Tennessee', 'Region']= 'South'\n",
    "df_merged.loc[df_merged['state']=='Mississippi', 'Region']= 'South'\n",
    "df_merged.loc[df_merged['state']=='Alabama', 'Region']= 'South'\n",
    "#Division 7 (West South Central)\n",
    "df_merged.loc[df_merged['state']=='Oklahoma', 'Region']= 'South'\n",
    "df_merged.loc[df_merged['state']=='Texas', 'Region']= 'South'\n",
    "df_merged.loc[df_merged['state']=='Arkansas', 'Region']= 'South'\n",
    "df_merged.loc[df_merged['state']=='Louisiana', 'Region']= 'South'\n"
   ]
  },
  {
   "cell_type": "code",
   "execution_count": 8,
   "id": "fa4bbd2b",
   "metadata": {
    "execution": {
     "iopub.execute_input": "2025-05-07T20:06:57.403421Z",
     "iopub.status.busy": "2025-05-07T20:06:57.403011Z",
     "iopub.status.idle": "2025-05-07T20:07:29.469583Z",
     "shell.execute_reply": "2025-05-07T20:07:29.468505Z"
    },
    "papermill": {
     "duration": 32.076221,
     "end_time": "2025-05-07T20:07:29.471320",
     "exception": false,
     "start_time": "2025-05-07T20:06:57.395099",
     "status": "completed"
    },
    "tags": []
   },
   "outputs": [],
   "source": [
    "# Assigning regions (Region 4 West ) based on Division 8 (Mountain) and Division 9 (Pacific)\n",
    "#Division 8 (Mountain)\n",
    "df_merged.loc[df_merged['state']=='Idaho', 'Region']= 'West'\n",
    "df_merged.loc[df_merged['state']=='Montana', 'Region']= 'West'\n",
    "df_merged.loc[df_merged['state']=='Wyoming', 'Region']= 'West'\n",
    "df_merged.loc[df_merged['state']=='Nevada', 'Region']= 'West'\n",
    "df_merged.loc[df_merged['state']=='Utah', 'Region']= 'West'\n",
    "df_merged.loc[df_merged['state']=='Colorado', 'Region']= 'West'\n",
    "df_merged.loc[df_merged['state']=='Arizona', 'Region']= 'West'\n",
    "df_merged.loc[df_merged['state']=='New Mexico', 'Region']= 'West'\n",
    "#Division 9 (Pacific)\n",
    "df_merged.loc[df_merged['state']=='Alaska', 'Region']= 'West'\n",
    "df_merged.loc[df_merged['state']=='Washington', 'Region']= 'West'\n",
    "df_merged.loc[df_merged['state']=='Oregon', 'Region']= 'West'\n",
    "df_merged.loc[df_merged['state']=='California', 'Region']= 'West'\n",
    "df_merged.loc[df_merged['state']=='Hawaii', 'Region']= 'West'"
   ]
  },
  {
   "cell_type": "code",
   "execution_count": 9,
   "id": "c2f9b4a1",
   "metadata": {
    "execution": {
     "iopub.execute_input": "2025-05-07T20:07:29.485921Z",
     "iopub.status.busy": "2025-05-07T20:07:29.485618Z",
     "iopub.status.idle": "2025-05-07T20:07:29.529233Z",
     "shell.execute_reply": "2025-05-07T20:07:29.528173Z"
    },
    "papermill": {
     "duration": 0.052849,
     "end_time": "2025-05-07T20:07:29.530918",
     "exception": false,
     "start_time": "2025-05-07T20:07:29.478069",
     "status": "completed"
    },
    "tags": []
   },
   "outputs": [
    {
     "name": "stderr",
     "output_type": "stream",
     "text": [
      "/usr/local/lib/python3.11/dist-packages/pandas/io/formats/format.py:1458: RuntimeWarning: invalid value encountered in greater\n",
      "  has_large_values = (abs_vals > 1e6).any()\n",
      "/usr/local/lib/python3.11/dist-packages/pandas/io/formats/format.py:1459: RuntimeWarning: invalid value encountered in less\n",
      "  has_small_values = ((abs_vals < 10 ** (-self.digits)) & (abs_vals > 0)).any()\n",
      "/usr/local/lib/python3.11/dist-packages/pandas/io/formats/format.py:1459: RuntimeWarning: invalid value encountered in greater\n",
      "  has_small_values = ((abs_vals < 10 ** (-self.digits)) & (abs_vals > 0)).any()\n",
      "/usr/local/lib/python3.11/dist-packages/pandas/io/formats/format.py:1458: RuntimeWarning: invalid value encountered in greater\n",
      "  has_large_values = (abs_vals > 1e6).any()\n",
      "/usr/local/lib/python3.11/dist-packages/pandas/io/formats/format.py:1459: RuntimeWarning: invalid value encountered in less\n",
      "  has_small_values = ((abs_vals < 10 ** (-self.digits)) & (abs_vals > 0)).any()\n",
      "/usr/local/lib/python3.11/dist-packages/pandas/io/formats/format.py:1459: RuntimeWarning: invalid value encountered in greater\n",
      "  has_small_values = ((abs_vals < 10 ** (-self.digits)) & (abs_vals > 0)).any()\n"
     ]
    },
    {
     "data": {
      "text/html": [
       "<div>\n",
       "<style scoped>\n",
       "    .dataframe tbody tr th:only-of-type {\n",
       "        vertical-align: middle;\n",
       "    }\n",
       "\n",
       "    .dataframe tbody tr th {\n",
       "        vertical-align: top;\n",
       "    }\n",
       "\n",
       "    .dataframe thead th {\n",
       "        text-align: right;\n",
       "    }\n",
       "</style>\n",
       "<table border=\"1\" class=\"dataframe\">\n",
       "  <thead>\n",
       "    <tr style=\"text-align: right;\">\n",
       "      <th></th>\n",
       "      <th>order_id</th>\n",
       "      <th>user_id</th>\n",
       "      <th>order_number</th>\n",
       "      <th>orders_day_of_week</th>\n",
       "      <th>order_hour_of_day</th>\n",
       "      <th>days_since_previous_order</th>\n",
       "      <th>product_id</th>\n",
       "      <th>add_to_cart_order</th>\n",
       "      <th>reordered</th>\n",
       "      <th>Unnamed: 0</th>\n",
       "      <th>...</th>\n",
       "      <th>surname</th>\n",
       "      <th>gender</th>\n",
       "      <th>state</th>\n",
       "      <th>age</th>\n",
       "      <th>date_joined</th>\n",
       "      <th>n_dependants</th>\n",
       "      <th>fam_status</th>\n",
       "      <th>income</th>\n",
       "      <th>_merge</th>\n",
       "      <th>Region</th>\n",
       "    </tr>\n",
       "  </thead>\n",
       "  <tbody>\n",
       "    <tr>\n",
       "      <th>0</th>\n",
       "      <td>2539329</td>\n",
       "      <td>1</td>\n",
       "      <td>1</td>\n",
       "      <td>2</td>\n",
       "      <td>8</td>\n",
       "      <td>NaN</td>\n",
       "      <td>196</td>\n",
       "      <td>1</td>\n",
       "      <td>0</td>\n",
       "      <td>195</td>\n",
       "      <td>...</td>\n",
       "      <td>Nguyen</td>\n",
       "      <td>Female</td>\n",
       "      <td>Alabama</td>\n",
       "      <td>31</td>\n",
       "      <td>2/17/2019</td>\n",
       "      <td>3</td>\n",
       "      <td>married</td>\n",
       "      <td>40423</td>\n",
       "      <td>both</td>\n",
       "      <td>South</td>\n",
       "    </tr>\n",
       "    <tr>\n",
       "      <th>1</th>\n",
       "      <td>2398795</td>\n",
       "      <td>1</td>\n",
       "      <td>2</td>\n",
       "      <td>3</td>\n",
       "      <td>7</td>\n",
       "      <td>15.0</td>\n",
       "      <td>196</td>\n",
       "      <td>1</td>\n",
       "      <td>1</td>\n",
       "      <td>195</td>\n",
       "      <td>...</td>\n",
       "      <td>Nguyen</td>\n",
       "      <td>Female</td>\n",
       "      <td>Alabama</td>\n",
       "      <td>31</td>\n",
       "      <td>2/17/2019</td>\n",
       "      <td>3</td>\n",
       "      <td>married</td>\n",
       "      <td>40423</td>\n",
       "      <td>both</td>\n",
       "      <td>South</td>\n",
       "    </tr>\n",
       "    <tr>\n",
       "      <th>2</th>\n",
       "      <td>473747</td>\n",
       "      <td>1</td>\n",
       "      <td>3</td>\n",
       "      <td>3</td>\n",
       "      <td>12</td>\n",
       "      <td>21.0</td>\n",
       "      <td>196</td>\n",
       "      <td>1</td>\n",
       "      <td>1</td>\n",
       "      <td>195</td>\n",
       "      <td>...</td>\n",
       "      <td>Nguyen</td>\n",
       "      <td>Female</td>\n",
       "      <td>Alabama</td>\n",
       "      <td>31</td>\n",
       "      <td>2/17/2019</td>\n",
       "      <td>3</td>\n",
       "      <td>married</td>\n",
       "      <td>40423</td>\n",
       "      <td>both</td>\n",
       "      <td>South</td>\n",
       "    </tr>\n",
       "    <tr>\n",
       "      <th>3</th>\n",
       "      <td>2254736</td>\n",
       "      <td>1</td>\n",
       "      <td>4</td>\n",
       "      <td>4</td>\n",
       "      <td>7</td>\n",
       "      <td>29.0</td>\n",
       "      <td>196</td>\n",
       "      <td>1</td>\n",
       "      <td>1</td>\n",
       "      <td>195</td>\n",
       "      <td>...</td>\n",
       "      <td>Nguyen</td>\n",
       "      <td>Female</td>\n",
       "      <td>Alabama</td>\n",
       "      <td>31</td>\n",
       "      <td>2/17/2019</td>\n",
       "      <td>3</td>\n",
       "      <td>married</td>\n",
       "      <td>40423</td>\n",
       "      <td>both</td>\n",
       "      <td>South</td>\n",
       "    </tr>\n",
       "    <tr>\n",
       "      <th>4</th>\n",
       "      <td>431534</td>\n",
       "      <td>1</td>\n",
       "      <td>5</td>\n",
       "      <td>4</td>\n",
       "      <td>15</td>\n",
       "      <td>28.0</td>\n",
       "      <td>196</td>\n",
       "      <td>1</td>\n",
       "      <td>1</td>\n",
       "      <td>195</td>\n",
       "      <td>...</td>\n",
       "      <td>Nguyen</td>\n",
       "      <td>Female</td>\n",
       "      <td>Alabama</td>\n",
       "      <td>31</td>\n",
       "      <td>2/17/2019</td>\n",
       "      <td>3</td>\n",
       "      <td>married</td>\n",
       "      <td>40423</td>\n",
       "      <td>both</td>\n",
       "      <td>South</td>\n",
       "    </tr>\n",
       "    <tr>\n",
       "      <th>5</th>\n",
       "      <td>3367565</td>\n",
       "      <td>1</td>\n",
       "      <td>6</td>\n",
       "      <td>2</td>\n",
       "      <td>7</td>\n",
       "      <td>19.0</td>\n",
       "      <td>196</td>\n",
       "      <td>1</td>\n",
       "      <td>1</td>\n",
       "      <td>195</td>\n",
       "      <td>...</td>\n",
       "      <td>Nguyen</td>\n",
       "      <td>Female</td>\n",
       "      <td>Alabama</td>\n",
       "      <td>31</td>\n",
       "      <td>2/17/2019</td>\n",
       "      <td>3</td>\n",
       "      <td>married</td>\n",
       "      <td>40423</td>\n",
       "      <td>both</td>\n",
       "      <td>South</td>\n",
       "    </tr>\n",
       "    <tr>\n",
       "      <th>6</th>\n",
       "      <td>550135</td>\n",
       "      <td>1</td>\n",
       "      <td>7</td>\n",
       "      <td>1</td>\n",
       "      <td>9</td>\n",
       "      <td>20.0</td>\n",
       "      <td>196</td>\n",
       "      <td>1</td>\n",
       "      <td>1</td>\n",
       "      <td>195</td>\n",
       "      <td>...</td>\n",
       "      <td>Nguyen</td>\n",
       "      <td>Female</td>\n",
       "      <td>Alabama</td>\n",
       "      <td>31</td>\n",
       "      <td>2/17/2019</td>\n",
       "      <td>3</td>\n",
       "      <td>married</td>\n",
       "      <td>40423</td>\n",
       "      <td>both</td>\n",
       "      <td>South</td>\n",
       "    </tr>\n",
       "    <tr>\n",
       "      <th>7</th>\n",
       "      <td>3108588</td>\n",
       "      <td>1</td>\n",
       "      <td>8</td>\n",
       "      <td>1</td>\n",
       "      <td>14</td>\n",
       "      <td>14.0</td>\n",
       "      <td>196</td>\n",
       "      <td>2</td>\n",
       "      <td>1</td>\n",
       "      <td>195</td>\n",
       "      <td>...</td>\n",
       "      <td>Nguyen</td>\n",
       "      <td>Female</td>\n",
       "      <td>Alabama</td>\n",
       "      <td>31</td>\n",
       "      <td>2/17/2019</td>\n",
       "      <td>3</td>\n",
       "      <td>married</td>\n",
       "      <td>40423</td>\n",
       "      <td>both</td>\n",
       "      <td>South</td>\n",
       "    </tr>\n",
       "    <tr>\n",
       "      <th>8</th>\n",
       "      <td>2295261</td>\n",
       "      <td>1</td>\n",
       "      <td>9</td>\n",
       "      <td>1</td>\n",
       "      <td>16</td>\n",
       "      <td>0.0</td>\n",
       "      <td>196</td>\n",
       "      <td>4</td>\n",
       "      <td>1</td>\n",
       "      <td>195</td>\n",
       "      <td>...</td>\n",
       "      <td>Nguyen</td>\n",
       "      <td>Female</td>\n",
       "      <td>Alabama</td>\n",
       "      <td>31</td>\n",
       "      <td>2/17/2019</td>\n",
       "      <td>3</td>\n",
       "      <td>married</td>\n",
       "      <td>40423</td>\n",
       "      <td>both</td>\n",
       "      <td>South</td>\n",
       "    </tr>\n",
       "    <tr>\n",
       "      <th>9</th>\n",
       "      <td>2550362</td>\n",
       "      <td>1</td>\n",
       "      <td>10</td>\n",
       "      <td>4</td>\n",
       "      <td>8</td>\n",
       "      <td>30.0</td>\n",
       "      <td>196</td>\n",
       "      <td>1</td>\n",
       "      <td>1</td>\n",
       "      <td>195</td>\n",
       "      <td>...</td>\n",
       "      <td>Nguyen</td>\n",
       "      <td>Female</td>\n",
       "      <td>Alabama</td>\n",
       "      <td>31</td>\n",
       "      <td>2/17/2019</td>\n",
       "      <td>3</td>\n",
       "      <td>married</td>\n",
       "      <td>40423</td>\n",
       "      <td>both</td>\n",
       "      <td>South</td>\n",
       "    </tr>\n",
       "  </tbody>\n",
       "</table>\n",
       "<p>10 rows × 31 columns</p>\n",
       "</div>"
      ],
      "text/plain": [
       "  order_id user_id  order_number  orders_day_of_week  order_hour_of_day  \\\n",
       "0  2539329       1             1                   2                  8   \n",
       "1  2398795       1             2                   3                  7   \n",
       "2   473747       1             3                   3                 12   \n",
       "3  2254736       1             4                   4                  7   \n",
       "4   431534       1             5                   4                 15   \n",
       "5  3367565       1             6                   2                  7   \n",
       "6   550135       1             7                   1                  9   \n",
       "7  3108588       1             8                   1                 14   \n",
       "8  2295261       1             9                   1                 16   \n",
       "9  2550362       1            10                   4                  8   \n",
       "\n",
       "   days_since_previous_order  product_id  add_to_cart_order  reordered  \\\n",
       "0                        NaN         196                  1          0   \n",
       "1                       15.0         196                  1          1   \n",
       "2                       21.0         196                  1          1   \n",
       "3                       29.0         196                  1          1   \n",
       "4                       28.0         196                  1          1   \n",
       "5                       19.0         196                  1          1   \n",
       "6                       20.0         196                  1          1   \n",
       "7                       14.0         196                  2          1   \n",
       "8                        0.0         196                  4          1   \n",
       "9                       30.0         196                  1          1   \n",
       "\n",
       "   Unnamed: 0  ... surname  gender    state  age  date_joined n_dependants  \\\n",
       "0         195  ...  Nguyen  Female  Alabama   31    2/17/2019            3   \n",
       "1         195  ...  Nguyen  Female  Alabama   31    2/17/2019            3   \n",
       "2         195  ...  Nguyen  Female  Alabama   31    2/17/2019            3   \n",
       "3         195  ...  Nguyen  Female  Alabama   31    2/17/2019            3   \n",
       "4         195  ...  Nguyen  Female  Alabama   31    2/17/2019            3   \n",
       "5         195  ...  Nguyen  Female  Alabama   31    2/17/2019            3   \n",
       "6         195  ...  Nguyen  Female  Alabama   31    2/17/2019            3   \n",
       "7         195  ...  Nguyen  Female  Alabama   31    2/17/2019            3   \n",
       "8         195  ...  Nguyen  Female  Alabama   31    2/17/2019            3   \n",
       "9         195  ...  Nguyen  Female  Alabama   31    2/17/2019            3   \n",
       "\n",
       "   fam_status income  _merge Region  \n",
       "0     married  40423    both  South  \n",
       "1     married  40423    both  South  \n",
       "2     married  40423    both  South  \n",
       "3     married  40423    both  South  \n",
       "4     married  40423    both  South  \n",
       "5     married  40423    both  South  \n",
       "6     married  40423    both  South  \n",
       "7     married  40423    both  South  \n",
       "8     married  40423    both  South  \n",
       "9     married  40423    both  South  \n",
       "\n",
       "[10 rows x 31 columns]"
      ]
     },
     "execution_count": 9,
     "metadata": {},
     "output_type": "execute_result"
    }
   ],
   "source": [
    "df_merged.head(10)"
   ]
  },
  {
   "cell_type": "code",
   "execution_count": 10,
   "id": "78841f5e",
   "metadata": {
    "execution": {
     "iopub.execute_input": "2025-05-07T20:07:29.546791Z",
     "iopub.status.busy": "2025-05-07T20:07:29.546150Z",
     "iopub.status.idle": "2025-05-07T20:07:39.960567Z",
     "shell.execute_reply": "2025-05-07T20:07:39.959632Z"
    },
    "papermill": {
     "duration": 10.424206,
     "end_time": "2025-05-07T20:07:39.962328",
     "exception": false,
     "start_time": "2025-05-07T20:07:29.538122",
     "status": "completed"
    },
    "tags": []
   },
   "outputs": [],
   "source": [
    "# Crossing the variables Region ( jus created) and the income to look over the spending habits regionwise\n",
    "crosstab = pd.crosstab(df_merged['Region'], df_merged['income'], dropna = False)"
   ]
  },
  {
   "cell_type": "code",
   "execution_count": 11,
   "id": "34b3c88c",
   "metadata": {
    "execution": {
     "iopub.execute_input": "2025-05-07T20:07:39.978756Z",
     "iopub.status.busy": "2025-05-07T20:07:39.978440Z",
     "iopub.status.idle": "2025-05-07T20:07:39.997378Z",
     "shell.execute_reply": "2025-05-07T20:07:39.996462Z"
    },
    "papermill": {
     "duration": 0.028386,
     "end_time": "2025-05-07T20:07:39.998931",
     "exception": false,
     "start_time": "2025-05-07T20:07:39.970545",
     "status": "completed"
    },
    "tags": []
   },
   "outputs": [
    {
     "data": {
      "text/plain": [
       "<bound method NDFrame.to_clipboard of income     25903   25911   25937   25941   25955   25972   25979   25986   \\\n",
       "Region                                                                      \n",
       "Midwest        20       0       0       0       0       0       0       8   \n",
       "Northeast       0       0       0       0       0       0       0       0   \n",
       "South           0      28       0       0       0       0      40       0   \n",
       "West            0       0      39      31     392      43       0       0   \n",
       "\n",
       "income     25991   25999   ...  577728  578251  578551  579169  579397  \\\n",
       "Region                     ...                                           \n",
       "Midwest        34       0  ...       0       0       0    1217     153   \n",
       "Northeast       0       0  ...       0       0       0       0       0   \n",
       "South           0      92  ...      77      70       0       0       0   \n",
       "West            0       0  ...       0       0      89       0       0   \n",
       "\n",
       "income     584097  590790  591089  592409  593901  \n",
       "Region                                             \n",
       "Midwest         0       0       0       0       0  \n",
       "Northeast     826       0       0       0       0  \n",
       "South           0       0     176       0       0  \n",
       "West            0      54       0     318     640  \n",
       "\n",
       "[4 rows x 108012 columns]>"
      ]
     },
     "execution_count": 11,
     "metadata": {},
     "output_type": "execute_result"
    }
   ],
   "source": [
    "# Copy the contents to the clipboard\n",
    "crosstab.to_clipboard"
   ]
  },
  {
   "cell_type": "code",
   "execution_count": 12,
   "id": "a52e77ea",
   "metadata": {
    "execution": {
     "iopub.execute_input": "2025-05-07T20:07:40.016171Z",
     "iopub.status.busy": "2025-05-07T20:07:40.015779Z",
     "iopub.status.idle": "2025-05-07T20:08:42.001912Z",
     "shell.execute_reply": "2025-05-07T20:08:41.999691Z"
    },
    "papermill": {
     "duration": 61.998814,
     "end_time": "2025-05-07T20:08:42.006023",
     "exception": false,
     "start_time": "2025-05-07T20:07:40.007209",
     "status": "completed"
    },
    "tags": []
   },
   "outputs": [],
   "source": [
    "#export the updated dataframe\n",
    "df_merged.to_pickle('orders_products_customers_merged.pkl')"
   ]
  },
  {
   "cell_type": "markdown",
   "id": "dbf1417a",
   "metadata": {
    "papermill": {
     "duration": 0.006852,
     "end_time": "2025-05-07T20:08:42.023413",
     "exception": false,
     "start_time": "2025-05-07T20:08:42.016561",
     "status": "completed"
    },
    "tags": []
   },
   "source": [
    "4.Create an exclusion flag for low-activity customers (customers with less than 5 orders) and exclude them from the data. Make sure you export this sample."
   ]
  },
  {
   "cell_type": "code",
   "execution_count": 13,
   "id": "70c344ff",
   "metadata": {
    "execution": {
     "iopub.execute_input": "2025-05-07T20:08:42.040777Z",
     "iopub.status.busy": "2025-05-07T20:08:42.040371Z",
     "iopub.status.idle": "2025-05-07T20:08:45.379679Z",
     "shell.execute_reply": "2025-05-07T20:08:45.378555Z"
    },
    "papermill": {
     "duration": 3.350242,
     "end_time": "2025-05-07T20:08:45.381506",
     "exception": false,
     "start_time": "2025-05-07T20:08:42.031264",
     "status": "completed"
    },
    "tags": []
   },
   "outputs": [],
   "source": [
    "\n",
    "# Creating exclusion flag as Customer_Activity column with low and high values\n",
    "df_merged.loc[df_merged['max_order']<5, 'Customer_Activity']='Low'\n",
    "df_merged.loc[df_merged['max_order']>5, 'Customer_Activity']='High'"
   ]
  },
  {
   "cell_type": "code",
   "execution_count": 14,
   "id": "6ccc59f4",
   "metadata": {
    "execution": {
     "iopub.execute_input": "2025-05-07T20:08:45.397654Z",
     "iopub.status.busy": "2025-05-07T20:08:45.396976Z",
     "iopub.status.idle": "2025-05-07T20:08:45.421158Z",
     "shell.execute_reply": "2025-05-07T20:08:45.420009Z"
    },
    "papermill": {
     "duration": 0.033858,
     "end_time": "2025-05-07T20:08:45.422672",
     "exception": false,
     "start_time": "2025-05-07T20:08:45.388814",
     "status": "completed"
    },
    "tags": []
   },
   "outputs": [
    {
     "name": "stderr",
     "output_type": "stream",
     "text": [
      "/usr/local/lib/python3.11/dist-packages/pandas/io/formats/format.py:1458: RuntimeWarning: invalid value encountered in greater\n",
      "  has_large_values = (abs_vals > 1e6).any()\n",
      "/usr/local/lib/python3.11/dist-packages/pandas/io/formats/format.py:1459: RuntimeWarning: invalid value encountered in less\n",
      "  has_small_values = ((abs_vals < 10 ** (-self.digits)) & (abs_vals > 0)).any()\n",
      "/usr/local/lib/python3.11/dist-packages/pandas/io/formats/format.py:1459: RuntimeWarning: invalid value encountered in greater\n",
      "  has_small_values = ((abs_vals < 10 ** (-self.digits)) & (abs_vals > 0)).any()\n",
      "/usr/local/lib/python3.11/dist-packages/pandas/io/formats/format.py:1458: RuntimeWarning: invalid value encountered in greater\n",
      "  has_large_values = (abs_vals > 1e6).any()\n",
      "/usr/local/lib/python3.11/dist-packages/pandas/io/formats/format.py:1459: RuntimeWarning: invalid value encountered in less\n",
      "  has_small_values = ((abs_vals < 10 ** (-self.digits)) & (abs_vals > 0)).any()\n",
      "/usr/local/lib/python3.11/dist-packages/pandas/io/formats/format.py:1459: RuntimeWarning: invalid value encountered in greater\n",
      "  has_small_values = ((abs_vals < 10 ** (-self.digits)) & (abs_vals > 0)).any()\n"
     ]
    },
    {
     "data": {
      "text/html": [
       "<div>\n",
       "<style scoped>\n",
       "    .dataframe tbody tr th:only-of-type {\n",
       "        vertical-align: middle;\n",
       "    }\n",
       "\n",
       "    .dataframe tbody tr th {\n",
       "        vertical-align: top;\n",
       "    }\n",
       "\n",
       "    .dataframe thead th {\n",
       "        text-align: right;\n",
       "    }\n",
       "</style>\n",
       "<table border=\"1\" class=\"dataframe\">\n",
       "  <thead>\n",
       "    <tr style=\"text-align: right;\">\n",
       "      <th></th>\n",
       "      <th>order_id</th>\n",
       "      <th>user_id</th>\n",
       "      <th>order_number</th>\n",
       "      <th>orders_day_of_week</th>\n",
       "      <th>order_hour_of_day</th>\n",
       "      <th>days_since_previous_order</th>\n",
       "      <th>product_id</th>\n",
       "      <th>add_to_cart_order</th>\n",
       "      <th>reordered</th>\n",
       "      <th>Unnamed: 0</th>\n",
       "      <th>...</th>\n",
       "      <th>gender</th>\n",
       "      <th>state</th>\n",
       "      <th>age</th>\n",
       "      <th>date_joined</th>\n",
       "      <th>n_dependants</th>\n",
       "      <th>fam_status</th>\n",
       "      <th>income</th>\n",
       "      <th>_merge</th>\n",
       "      <th>Region</th>\n",
       "      <th>Customer_Activity</th>\n",
       "    </tr>\n",
       "  </thead>\n",
       "  <tbody>\n",
       "    <tr>\n",
       "      <th>0</th>\n",
       "      <td>2539329</td>\n",
       "      <td>1</td>\n",
       "      <td>1</td>\n",
       "      <td>2</td>\n",
       "      <td>8</td>\n",
       "      <td>NaN</td>\n",
       "      <td>196</td>\n",
       "      <td>1</td>\n",
       "      <td>0</td>\n",
       "      <td>195</td>\n",
       "      <td>...</td>\n",
       "      <td>Female</td>\n",
       "      <td>Alabama</td>\n",
       "      <td>31</td>\n",
       "      <td>2/17/2019</td>\n",
       "      <td>3</td>\n",
       "      <td>married</td>\n",
       "      <td>40423</td>\n",
       "      <td>both</td>\n",
       "      <td>South</td>\n",
       "      <td>High</td>\n",
       "    </tr>\n",
       "    <tr>\n",
       "      <th>1</th>\n",
       "      <td>2398795</td>\n",
       "      <td>1</td>\n",
       "      <td>2</td>\n",
       "      <td>3</td>\n",
       "      <td>7</td>\n",
       "      <td>15.0</td>\n",
       "      <td>196</td>\n",
       "      <td>1</td>\n",
       "      <td>1</td>\n",
       "      <td>195</td>\n",
       "      <td>...</td>\n",
       "      <td>Female</td>\n",
       "      <td>Alabama</td>\n",
       "      <td>31</td>\n",
       "      <td>2/17/2019</td>\n",
       "      <td>3</td>\n",
       "      <td>married</td>\n",
       "      <td>40423</td>\n",
       "      <td>both</td>\n",
       "      <td>South</td>\n",
       "      <td>High</td>\n",
       "    </tr>\n",
       "    <tr>\n",
       "      <th>2</th>\n",
       "      <td>473747</td>\n",
       "      <td>1</td>\n",
       "      <td>3</td>\n",
       "      <td>3</td>\n",
       "      <td>12</td>\n",
       "      <td>21.0</td>\n",
       "      <td>196</td>\n",
       "      <td>1</td>\n",
       "      <td>1</td>\n",
       "      <td>195</td>\n",
       "      <td>...</td>\n",
       "      <td>Female</td>\n",
       "      <td>Alabama</td>\n",
       "      <td>31</td>\n",
       "      <td>2/17/2019</td>\n",
       "      <td>3</td>\n",
       "      <td>married</td>\n",
       "      <td>40423</td>\n",
       "      <td>both</td>\n",
       "      <td>South</td>\n",
       "      <td>High</td>\n",
       "    </tr>\n",
       "    <tr>\n",
       "      <th>3</th>\n",
       "      <td>2254736</td>\n",
       "      <td>1</td>\n",
       "      <td>4</td>\n",
       "      <td>4</td>\n",
       "      <td>7</td>\n",
       "      <td>29.0</td>\n",
       "      <td>196</td>\n",
       "      <td>1</td>\n",
       "      <td>1</td>\n",
       "      <td>195</td>\n",
       "      <td>...</td>\n",
       "      <td>Female</td>\n",
       "      <td>Alabama</td>\n",
       "      <td>31</td>\n",
       "      <td>2/17/2019</td>\n",
       "      <td>3</td>\n",
       "      <td>married</td>\n",
       "      <td>40423</td>\n",
       "      <td>both</td>\n",
       "      <td>South</td>\n",
       "      <td>High</td>\n",
       "    </tr>\n",
       "    <tr>\n",
       "      <th>4</th>\n",
       "      <td>431534</td>\n",
       "      <td>1</td>\n",
       "      <td>5</td>\n",
       "      <td>4</td>\n",
       "      <td>15</td>\n",
       "      <td>28.0</td>\n",
       "      <td>196</td>\n",
       "      <td>1</td>\n",
       "      <td>1</td>\n",
       "      <td>195</td>\n",
       "      <td>...</td>\n",
       "      <td>Female</td>\n",
       "      <td>Alabama</td>\n",
       "      <td>31</td>\n",
       "      <td>2/17/2019</td>\n",
       "      <td>3</td>\n",
       "      <td>married</td>\n",
       "      <td>40423</td>\n",
       "      <td>both</td>\n",
       "      <td>South</td>\n",
       "      <td>High</td>\n",
       "    </tr>\n",
       "  </tbody>\n",
       "</table>\n",
       "<p>5 rows × 32 columns</p>\n",
       "</div>"
      ],
      "text/plain": [
       "  order_id user_id  order_number  orders_day_of_week  order_hour_of_day  \\\n",
       "0  2539329       1             1                   2                  8   \n",
       "1  2398795       1             2                   3                  7   \n",
       "2   473747       1             3                   3                 12   \n",
       "3  2254736       1             4                   4                  7   \n",
       "4   431534       1             5                   4                 15   \n",
       "\n",
       "   days_since_previous_order  product_id  add_to_cart_order  reordered  \\\n",
       "0                        NaN         196                  1          0   \n",
       "1                       15.0         196                  1          1   \n",
       "2                       21.0         196                  1          1   \n",
       "3                       29.0         196                  1          1   \n",
       "4                       28.0         196                  1          1   \n",
       "\n",
       "   Unnamed: 0  ...  gender    state  age  date_joined  n_dependants  \\\n",
       "0         195  ...  Female  Alabama   31    2/17/2019             3   \n",
       "1         195  ...  Female  Alabama   31    2/17/2019             3   \n",
       "2         195  ...  Female  Alabama   31    2/17/2019             3   \n",
       "3         195  ...  Female  Alabama   31    2/17/2019             3   \n",
       "4         195  ...  Female  Alabama   31    2/17/2019             3   \n",
       "\n",
       "  fam_status  income _merge  Region Customer_Activity  \n",
       "0    married   40423   both   South              High  \n",
       "1    married   40423   both   South              High  \n",
       "2    married   40423   both   South              High  \n",
       "3    married   40423   both   South              High  \n",
       "4    married   40423   both   South              High  \n",
       "\n",
       "[5 rows x 32 columns]"
      ]
     },
     "execution_count": 14,
     "metadata": {},
     "output_type": "execute_result"
    }
   ],
   "source": [
    "# check for new columns\n",
    "df_merged.head()"
   ]
  },
  {
   "cell_type": "code",
   "execution_count": 15,
   "id": "e6acb995",
   "metadata": {
    "execution": {
     "iopub.execute_input": "2025-05-07T20:08:45.438861Z",
     "iopub.status.busy": "2025-05-07T20:08:45.438551Z",
     "iopub.status.idle": "2025-05-07T20:08:45.444195Z",
     "shell.execute_reply": "2025-05-07T20:08:45.443432Z"
    },
    "papermill": {
     "duration": 0.015375,
     "end_time": "2025-05-07T20:08:45.445601",
     "exception": false,
     "start_time": "2025-05-07T20:08:45.430226",
     "status": "completed"
    },
    "tags": []
   },
   "outputs": [
    {
     "data": {
      "text/plain": [
       "(32404859, 32)"
      ]
     },
     "execution_count": 15,
     "metadata": {},
     "output_type": "execute_result"
    }
   ],
   "source": [
    "# checking the dimension of the df\n",
    "df_merged.shape"
   ]
  },
  {
   "cell_type": "code",
   "execution_count": 16,
   "id": "4f2d3d87",
   "metadata": {
    "execution": {
     "iopub.execute_input": "2025-05-07T20:08:45.462180Z",
     "iopub.status.busy": "2025-05-07T20:08:45.461848Z",
     "iopub.status.idle": "2025-05-07T20:08:45.979213Z",
     "shell.execute_reply": "2025-05-07T20:08:45.978396Z"
    },
    "papermill": {
     "duration": 0.527555,
     "end_time": "2025-05-07T20:08:45.980891",
     "exception": false,
     "start_time": "2025-05-07T20:08:45.453336",
     "status": "completed"
    },
    "tags": []
   },
   "outputs": [
    {
     "data": {
      "text/plain": [
       "Customer_Activity\n",
       "High    30171424\n",
       "Low      1440295\n",
       "NaN       793140\n",
       "Name: count, dtype: int64"
      ]
     },
     "execution_count": 16,
     "metadata": {},
     "output_type": "execute_result"
    }
   ],
   "source": [
    "# Check for number of customer activity with low and high counts.\n",
    "df_merged['Customer_Activity'].value_counts(dropna=False)"
   ]
  },
  {
   "cell_type": "code",
   "execution_count": 17,
   "id": "18d689bf",
   "metadata": {
    "execution": {
     "iopub.execute_input": "2025-05-07T20:08:45.998179Z",
     "iopub.status.busy": "2025-05-07T20:08:45.997378Z",
     "iopub.status.idle": "2025-05-07T20:08:54.761284Z",
     "shell.execute_reply": "2025-05-07T20:08:54.760218Z"
    },
    "papermill": {
     "duration": 8.774282,
     "end_time": "2025-05-07T20:08:54.762971",
     "exception": false,
     "start_time": "2025-05-07T20:08:45.988689",
     "status": "completed"
    },
    "tags": []
   },
   "outputs": [],
   "source": [
    "# create a df, df_updated to drop the low activity customers \n",
    "df_updated=df_merged[df_merged['Customer_Activity']=='High']"
   ]
  },
  {
   "cell_type": "code",
   "execution_count": 18,
   "id": "73c07ef0",
   "metadata": {
    "execution": {
     "iopub.execute_input": "2025-05-07T20:08:54.779781Z",
     "iopub.status.busy": "2025-05-07T20:08:54.779467Z",
     "iopub.status.idle": "2025-05-07T20:09:48.344299Z",
     "shell.execute_reply": "2025-05-07T20:09:48.343099Z"
    },
    "papermill": {
     "duration": 53.575229,
     "end_time": "2025-05-07T20:09:48.346199",
     "exception": false,
     "start_time": "2025-05-07T20:08:54.770970",
     "status": "completed"
    },
    "tags": []
   },
   "outputs": [],
   "source": [
    "# export the updated df \n",
    "df_updated.to_pickle('High-Activity_Customers.pkl')"
   ]
  },
  {
   "cell_type": "markdown",
   "id": "bcad77b2",
   "metadata": {
    "papermill": {
     "duration": 0.007434,
     "end_time": "2025-05-07T20:09:48.480976",
     "exception": false,
     "start_time": "2025-05-07T20:09:48.473542",
     "status": "completed"
    },
    "tags": []
   },
   "source": [
    "5.Create a profiling variable based on age, income, certain goods in the “department_id” column, and number of dependents. You might also use the “orders_day_of_week” and “order_hour_of_day” columns if you can think of a way they would impact customer profiles. (Hint: As an example, try thinking of what characteristics would lead you to the profile “Single adult” or “Young parent.”)"
   ]
  },
  {
   "cell_type": "markdown",
   "id": "518211b0",
   "metadata": {
    "papermill": {
     "duration": 0.007238,
     "end_time": "2025-05-07T20:09:48.495757",
     "exception": false,
     "start_time": "2025-05-07T20:09:48.488519",
     "status": "completed"
    },
    "tags": []
   },
   "source": [
    "profiling variable based on age:"
   ]
  },
  {
   "cell_type": "code",
   "execution_count": 19,
   "id": "e00762d4",
   "metadata": {
    "execution": {
     "iopub.execute_input": "2025-05-07T20:09:48.512563Z",
     "iopub.status.busy": "2025-05-07T20:09:48.511847Z",
     "iopub.status.idle": "2025-05-07T20:09:52.015372Z",
     "shell.execute_reply": "2025-05-07T20:09:52.014023Z"
    },
    "papermill": {
     "duration": 3.514,
     "end_time": "2025-05-07T20:09:52.017399",
     "exception": false,
     "start_time": "2025-05-07T20:09:48.503399",
     "status": "completed"
    },
    "tags": []
   },
   "outputs": [
    {
     "name": "stderr",
     "output_type": "stream",
     "text": [
      "/tmp/ipykernel_13/2189022328.py:2: SettingWithCopyWarning: \n",
      "A value is trying to be set on a copy of a slice from a DataFrame.\n",
      "Try using .loc[row_indexer,col_indexer] = value instead\n",
      "\n",
      "See the caveats in the documentation: https://pandas.pydata.org/pandas-docs/stable/user_guide/indexing.html#returning-a-view-versus-a-copy\n",
      "  df_updated.loc[df_updated['age']<=25, 'Age_Group']='Youth'\n"
     ]
    }
   ],
   "source": [
    "# Define Customer Profiles based on Age\n",
    "df_updated.loc[df_updated['age']<=25, 'Age_Group']='Youth'\n",
    "df_updated.loc[(df_updated['age']>25) & (df_updated['age']<=64), 'Age_Group']='Adults'\n",
    "df_updated.loc[df_updated['age']>65, 'Age_Group']='Senior'"
   ]
  },
  {
   "cell_type": "code",
   "execution_count": 20,
   "id": "ea039afd",
   "metadata": {
    "execution": {
     "iopub.execute_input": "2025-05-07T20:09:52.034780Z",
     "iopub.status.busy": "2025-05-07T20:09:52.034503Z",
     "iopub.status.idle": "2025-05-07T20:09:52.488672Z",
     "shell.execute_reply": "2025-05-07T20:09:52.487832Z"
    },
    "papermill": {
     "duration": 0.464312,
     "end_time": "2025-05-07T20:09:52.489997",
     "exception": false,
     "start_time": "2025-05-07T20:09:52.025685",
     "status": "completed"
    },
    "tags": []
   },
   "outputs": [],
   "source": [
    "# Assigning the Age_Group variable count to a variable\n",
    "Count_Age_Group=df_updated['Age_Group'].value_counts(dropna=False)"
   ]
  },
  {
   "cell_type": "code",
   "execution_count": 21,
   "id": "3386a028",
   "metadata": {
    "execution": {
     "iopub.execute_input": "2025-05-07T20:09:52.507197Z",
     "iopub.status.busy": "2025-05-07T20:09:52.506761Z",
     "iopub.status.idle": "2025-05-07T20:09:52.513272Z",
     "shell.execute_reply": "2025-05-07T20:09:52.512423Z"
    },
    "papermill": {
     "duration": 0.016999,
     "end_time": "2025-05-07T20:09:52.514952",
     "exception": false,
     "start_time": "2025-05-07T20:09:52.497953",
     "status": "completed"
    },
    "tags": []
   },
   "outputs": [
    {
     "data": {
      "text/plain": [
       "Age_Group\n",
       "Adults    18417604\n",
       "Senior     7536395\n",
       "Youth      3764095\n",
       "NaN         453330\n",
       "Name: count, dtype: int64"
      ]
     },
     "execution_count": 21,
     "metadata": {},
     "output_type": "execute_result"
    }
   ],
   "source": [
    "#Check for count of Age_Group\n",
    "Count_Age_Group"
   ]
  },
  {
   "cell_type": "code",
   "execution_count": 22,
   "id": "a06f3af1",
   "metadata": {
    "execution": {
     "iopub.execute_input": "2025-05-07T20:09:52.532545Z",
     "iopub.status.busy": "2025-05-07T20:09:52.532195Z",
     "iopub.status.idle": "2025-05-07T20:09:52.863927Z",
     "shell.execute_reply": "2025-05-07T20:09:52.862860Z"
    },
    "papermill": {
     "duration": 0.342078,
     "end_time": "2025-05-07T20:09:52.865400",
     "exception": false,
     "start_time": "2025-05-07T20:09:52.523322",
     "status": "completed"
    },
    "tags": []
   },
   "outputs": [
    {
     "data": {
      "image/png": "[encoded data removed]",
      "text/plain": [
       "<Figure size 500x500 with 1 Axes>"
      ]
     },
     "metadata": {},
     "output_type": "display_data"
    }
   ],
   "source": [
    "# Visualize a pie chart \n",
    "plt.figure(figsize=(5, 5))\n",
    "plt.pie(Count_Age_Group, labels=Count_Age_Group.index, autopct='%1.1f%%', startangle=70)\n",
    "plt.title('Age Group Distribution')\n",
    "plt.axis('equal')  # Equal aspect ratio ensures the pie is circular\n",
    "plt.tight_layout()\n",
    "plt.savefig(\"Piechart for Age-group.png\")\n",
    "plt.show()\n",
    "plt.colors=['#FFF1C9','#F7B7A3','#EA5F89']"
   ]
  },
  {
   "cell_type": "code",
   "execution_count": 23,
   "id": "1c0a8500",
   "metadata": {
    "execution": {
     "iopub.execute_input": "2025-05-07T20:09:52.885641Z",
     "iopub.status.busy": "2025-05-07T20:09:52.885187Z",
     "iopub.status.idle": "2025-05-07T20:09:52.908154Z",
     "shell.execute_reply": "2025-05-07T20:09:52.907270Z"
    },
    "papermill": {
     "duration": 0.035577,
     "end_time": "2025-05-07T20:09:52.909782",
     "exception": false,
     "start_time": "2025-05-07T20:09:52.874205",
     "status": "completed"
    },
    "tags": []
   },
   "outputs": [
    {
     "data": {
      "text/plain": [
       "<Figure size 640x480 with 0 Axes>"
      ]
     },
     "metadata": {},
     "output_type": "display_data"
    }
   ],
   "source": [
    "# Exporting AgeGroup Piechart \n",
    "plt.savefig(\"Age Group Distribution.png\")"
   ]
  },
  {
   "cell_type": "markdown",
   "id": "5f43a04a",
   "metadata": {
    "papermill": {
     "duration": 0.008173,
     "end_time": "2025-05-07T20:09:52.926616",
     "exception": false,
     "start_time": "2025-05-07T20:09:52.918443",
     "status": "completed"
    },
    "tags": []
   },
   "source": [
    "profiling variable based on income"
   ]
  },
  {
   "cell_type": "code",
   "execution_count": 24,
   "id": "9eee3ac8",
   "metadata": {
    "execution": {
     "iopub.execute_input": "2025-05-07T20:09:52.946141Z",
     "iopub.status.busy": "2025-05-07T20:09:52.945283Z",
     "iopub.status.idle": "2025-05-07T20:09:56.465598Z",
     "shell.execute_reply": "2025-05-07T20:09:56.464620Z"
    },
    "papermill": {
     "duration": 3.532184,
     "end_time": "2025-05-07T20:09:56.467235",
     "exception": false,
     "start_time": "2025-05-07T20:09:52.935051",
     "status": "completed"
    },
    "tags": []
   },
   "outputs": [
    {
     "name": "stderr",
     "output_type": "stream",
     "text": [
      "/tmp/ipykernel_13/3843304273.py:2: SettingWithCopyWarning: \n",
      "A value is trying to be set on a copy of a slice from a DataFrame.\n",
      "Try using .loc[row_indexer,col_indexer] = value instead\n",
      "\n",
      "See the caveats in the documentation: https://pandas.pydata.org/pandas-docs/stable/user_guide/indexing.html#returning-a-view-versus-a-copy\n",
      "  df_updated.loc[df_updated['income']<=50000, 'Income Group']='LOW'\n"
     ]
    }
   ],
   "source": [
    "# Define customer profiles based on income\n",
    "df_updated.loc[df_updated['income']<=50000, 'Income Group']='LOW'\n",
    "df_updated.loc[(df_updated['income']>50000) & (df_updated['income']<=150000), 'Income Group']='MEDIUM'\n",
    "df_updated.loc[df_updated['income']>150000, 'Income Group']='HIGH'\n"
   ]
  },
  {
   "cell_type": "code",
   "execution_count": 25,
   "id": "5563fb70",
   "metadata": {
    "execution": {
     "iopub.execute_input": "2025-05-07T20:09:56.486092Z",
     "iopub.status.busy": "2025-05-07T20:09:56.485803Z",
     "iopub.status.idle": "2025-05-07T20:09:56.948512Z",
     "shell.execute_reply": "2025-05-07T20:09:56.947569Z"
    },
    "papermill": {
     "duration": 0.473777,
     "end_time": "2025-05-07T20:09:56.950138",
     "exception": false,
     "start_time": "2025-05-07T20:09:56.476361",
     "status": "completed"
    },
    "tags": []
   },
   "outputs": [],
   "source": [
    "#check the Income group variable\n",
    "Count_Income_Group=df_updated['Income Group'].value_counts(dropna=False)"
   ]
  },
  {
   "cell_type": "code",
   "execution_count": 26,
   "id": "5a96116a",
   "metadata": {
    "execution": {
     "iopub.execute_input": "2025-05-07T20:09:56.969345Z",
     "iopub.status.busy": "2025-05-07T20:09:56.968594Z",
     "iopub.status.idle": "2025-05-07T20:09:56.975559Z",
     "shell.execute_reply": "2025-05-07T20:09:56.974731Z"
    },
    "papermill": {
     "duration": 0.018059,
     "end_time": "2025-05-07T20:09:56.976989",
     "exception": false,
     "start_time": "2025-05-07T20:09:56.958930",
     "status": "completed"
    },
    "tags": []
   },
   "outputs": [
    {
     "data": {
      "text/plain": [
       "Income Group\n",
       "MEDIUM    23120707\n",
       "HIGH       3801883\n",
       "LOW        3248834\n",
       "Name: count, dtype: int64"
      ]
     },
     "execution_count": 26,
     "metadata": {},
     "output_type": "execute_result"
    }
   ],
   "source": [
    "Count_Income_Group"
   ]
  },
  {
   "cell_type": "code",
   "execution_count": 27,
   "id": "78ff0219",
   "metadata": {
    "execution": {
     "iopub.execute_input": "2025-05-07T20:09:56.997169Z",
     "iopub.status.busy": "2025-05-07T20:09:56.996834Z",
     "iopub.status.idle": "2025-05-07T20:09:57.229115Z",
     "shell.execute_reply": "2025-05-07T20:09:57.228140Z"
    },
    "papermill": {
     "duration": 0.244394,
     "end_time": "2025-05-07T20:09:57.230730",
     "exception": false,
     "start_time": "2025-05-07T20:09:56.986336",
     "status": "completed"
    },
    "tags": []
   },
   "outputs": [
    {
     "data": {
      "text/plain": [
       "Text(0.5, 1.0, 'Distribution of Income Groups')"
      ]
     },
     "execution_count": 27,
     "metadata": {},
     "output_type": "execute_result"
    },
    {
     "data": {
      "image/png": "[encoded data removed]",
      "text/plain": [
       "<Figure size 640x480 with 1 Axes>"
      ]
     },
     "metadata": {},
     "output_type": "display_data"
    }
   ],
   "source": [
    "# create visualisation with bar chart for Income Group\n",
    "IncomeGroup_Barchart=Count_Income_Group.plot.bar()\n",
    "plt.ylabel('Count')\n",
    "plt.title(\"Distribution of Income Groups\")"
   ]
  },
  {
   "cell_type": "code",
   "execution_count": 28,
   "id": "86f60f88",
   "metadata": {
    "execution": {
     "iopub.execute_input": "2025-05-07T20:09:57.250686Z",
     "iopub.status.busy": "2025-05-07T20:09:57.250331Z",
     "iopub.status.idle": "2025-05-07T20:09:57.271637Z",
     "shell.execute_reply": "2025-05-07T20:09:57.270638Z"
    },
    "papermill": {
     "duration": 0.033048,
     "end_time": "2025-05-07T20:09:57.273191",
     "exception": false,
     "start_time": "2025-05-07T20:09:57.240143",
     "status": "completed"
    },
    "tags": []
   },
   "outputs": [
    {
     "data": {
      "text/plain": [
       "<Figure size 640x480 with 0 Axes>"
      ]
     },
     "metadata": {},
     "output_type": "display_data"
    }
   ],
   "source": [
    "# Export the Bar chart\n",
    "plt.savefig(\"IncomeGroup_BarChart.png\")"
   ]
  },
  {
   "cell_type": "code",
   "execution_count": 29,
   "id": "cc9e639f",
   "metadata": {
    "execution": {
     "iopub.execute_input": "2025-05-07T20:09:57.292794Z",
     "iopub.status.busy": "2025-05-07T20:09:57.292492Z",
     "iopub.status.idle": "2025-05-07T20:09:57.298455Z",
     "shell.execute_reply": "2025-05-07T20:09:57.297715Z"
    },
    "papermill": {
     "duration": 0.017441,
     "end_time": "2025-05-07T20:09:57.299849",
     "exception": false,
     "start_time": "2025-05-07T20:09:57.282408",
     "status": "completed"
    },
    "tags": []
   },
   "outputs": [
    {
     "data": {
      "text/plain": [
       "Index(['order_id', 'user_id', 'order_number', 'orders_day_of_week',\n",
       "       'order_hour_of_day', 'days_since_previous_order', 'product_id',\n",
       "       'add_to_cart_order', 'reordered', 'Unnamed: 0', 'product_name',\n",
       "       'aisle_id', 'department_id', 'prices', 'max_order', 'loyalty_flag',\n",
       "       'spending_average', 'spender_flag', 'customer_frequency',\n",
       "       'frequency_flag', 'first_name', 'surname', 'gender', 'state', 'age',\n",
       "       'date_joined', 'n_dependants', 'fam_status', 'income', '_merge',\n",
       "       'Region', 'Customer_Activity', 'Age_Group', 'Income Group'],\n",
       "      dtype='object')"
      ]
     },
     "execution_count": 29,
     "metadata": {},
     "output_type": "execute_result"
    }
   ],
   "source": [
    "# check for updated columns\n",
    "df_updated.columns"
   ]
  },
  {
   "cell_type": "markdown",
   "id": "ef285d45",
   "metadata": {
    "papermill": {
     "duration": 0.008856,
     "end_time": "2025-05-07T20:09:57.318061",
     "exception": false,
     "start_time": "2025-05-07T20:09:57.309205",
     "status": "completed"
    },
    "tags": []
   },
   "source": [
    "profiling variable based on no of dependents"
   ]
  },
  {
   "cell_type": "code",
   "execution_count": 30,
   "id": "b20b76ae",
   "metadata": {
    "execution": {
     "iopub.execute_input": "2025-05-07T20:09:57.337660Z",
     "iopub.status.busy": "2025-05-07T20:09:57.337346Z",
     "iopub.status.idle": "2025-05-07T20:10:00.536459Z",
     "shell.execute_reply": "2025-05-07T20:10:00.535518Z"
    },
    "papermill": {
     "duration": 3.211033,
     "end_time": "2025-05-07T20:10:00.538227",
     "exception": false,
     "start_time": "2025-05-07T20:09:57.327194",
     "status": "completed"
    },
    "tags": []
   },
   "outputs": [
    {
     "name": "stderr",
     "output_type": "stream",
     "text": [
      "/tmp/ipykernel_13/2669616377.py:2: SettingWithCopyWarning: \n",
      "A value is trying to be set on a copy of a slice from a DataFrame.\n",
      "Try using .loc[row_indexer,col_indexer] = value instead\n",
      "\n",
      "See the caveats in the documentation: https://pandas.pydata.org/pandas-docs/stable/user_guide/indexing.html#returning-a-view-versus-a-copy\n",
      "  df_updated.loc[df_updated['n_dependants']==0, 'Dependant_Flag']='No Dependants'\n"
     ]
    }
   ],
   "source": [
    "# check for no of dependents and generte a dependent flag variable\n",
    "df_updated.loc[df_updated['n_dependants']==0, 'Dependant_Flag']='No Dependants'\n",
    "df_updated.loc[df_updated['n_dependants']>=1, 'Dependant_Flag']='Has Dependants'"
   ]
  },
  {
   "cell_type": "code",
   "execution_count": 31,
   "id": "87182086",
   "metadata": {
    "execution": {
     "iopub.execute_input": "2025-05-07T20:10:00.560112Z",
     "iopub.status.busy": "2025-05-07T20:10:00.559766Z",
     "iopub.status.idle": "2025-05-07T20:10:01.045232Z",
     "shell.execute_reply": "2025-05-07T20:10:01.044290Z"
    },
    "papermill": {
     "duration": 0.49798,
     "end_time": "2025-05-07T20:10:01.046965",
     "exception": false,
     "start_time": "2025-05-07T20:10:00.548985",
     "status": "completed"
    },
    "tags": []
   },
   "outputs": [],
   "source": [
    "Dependant_Count=df_updated[\"Dependant_Flag\"].value_counts(dropna=False)"
   ]
  },
  {
   "cell_type": "code",
   "execution_count": 32,
   "id": "be951818",
   "metadata": {
    "execution": {
     "iopub.execute_input": "2025-05-07T20:10:01.067477Z",
     "iopub.status.busy": "2025-05-07T20:10:01.066816Z",
     "iopub.status.idle": "2025-05-07T20:10:01.073681Z",
     "shell.execute_reply": "2025-05-07T20:10:01.072639Z"
    },
    "papermill": {
     "duration": 0.018785,
     "end_time": "2025-05-07T20:10:01.075207",
     "exception": false,
     "start_time": "2025-05-07T20:10:01.056422",
     "status": "completed"
    },
    "tags": []
   },
   "outputs": [
    {
     "data": {
      "text/plain": [
       "Dependant_Flag\n",
       "Has Dependants    22632211\n",
       "No Dependants      7539213\n",
       "Name: count, dtype: int64"
      ]
     },
     "execution_count": 32,
     "metadata": {},
     "output_type": "execute_result"
    }
   ],
   "source": [
    "Dependant_Count"
   ]
  },
  {
   "cell_type": "code",
   "execution_count": 33,
   "id": "3d31da12",
   "metadata": {
    "execution": {
     "iopub.execute_input": "2025-05-07T20:10:01.098201Z",
     "iopub.status.busy": "2025-05-07T20:10:01.097850Z",
     "iopub.status.idle": "2025-05-07T20:10:01.213627Z",
     "shell.execute_reply": "2025-05-07T20:10:01.212660Z"
    },
    "papermill": {
     "duration": 0.127964,
     "end_time": "2025-05-07T20:10:01.215474",
     "exception": false,
     "start_time": "2025-05-07T20:10:01.087510",
     "status": "completed"
    },
    "tags": []
   },
   "outputs": [
    {
     "data": {
      "text/plain": [
       "Text(0.5, 1.0, 'Distribution of Dependants')"
      ]
     },
     "execution_count": 33,
     "metadata": {},
     "output_type": "execute_result"
    },
    {
     "data": {
      "image/png": "[encoded data removed]",
      "text/plain": [
       "<Figure size 640x480 with 1 Axes>"
      ]
     },
     "metadata": {},
     "output_type": "display_data"
    }
   ],
   "source": [
    "# Visualise a pie chart for dependant Flag\n",
    "DependentGroup_PieChart = Dependant_Count.plot.pie(autopct='%1.1f%%', labels= ['Have dependents', 'No dependents'], startangle=90, colors=['#FFF1C9','#F7B7A3'])\n",
    "plt.ylabel('')\n",
    "plt.title('Distribution of Dependants')"
   ]
  },
  {
   "cell_type": "code",
   "execution_count": 34,
   "id": "1b29d592",
   "metadata": {
    "execution": {
     "iopub.execute_input": "2025-05-07T20:10:01.239137Z",
     "iopub.status.busy": "2025-05-07T20:10:01.238390Z",
     "iopub.status.idle": "2025-05-07T20:10:01.259861Z",
     "shell.execute_reply": "2025-05-07T20:10:01.258869Z"
    },
    "papermill": {
     "duration": 0.035469,
     "end_time": "2025-05-07T20:10:01.261592",
     "exception": false,
     "start_time": "2025-05-07T20:10:01.226123",
     "status": "completed"
    },
    "tags": []
   },
   "outputs": [
    {
     "data": {
      "text/plain": [
       "<Figure size 640x480 with 0 Axes>"
      ]
     },
     "metadata": {},
     "output_type": "display_data"
    }
   ],
   "source": [
    "plt.savefig('DependantGroup_PieChart')"
   ]
  },
  {
   "cell_type": "code",
   "execution_count": null,
   "id": "97a3200d",
   "metadata": {
    "papermill": {
     "duration": 0.00983,
     "end_time": "2025-05-07T20:10:01.282641",
     "exception": false,
     "start_time": "2025-05-07T20:10:01.272811",
     "status": "completed"
    },
    "tags": []
   },
   "outputs": [],
   "source": []
  }
 ],
 "metadata": {
  "kaggle": {
   "accelerator": "none",
   "dataSources": [
    {
     "datasetId": 7332219,
     "sourceId": 11682512,
     "sourceType": "datasetVersion"
    },
    {
     "datasetId": 7345000,
     "sourceId": 11701859,
     "sourceType": "datasetVersion"
    }
   ],
   "dockerImageVersionId": 31012,
   "isGpuEnabled": false,
   "isInternetEnabled": true,
   "language": "python",
   "sourceType": "notebook"
  },
  "kernelspec": {
   "display_name": "Python [conda env:base] *",
   "language": "python",
   "name": "conda-base-py"
  },
  "language_info": {
   "codemirror_mode": {
    "name": "ipython",
    "version": 3
   },
   "file_extension": ".py",
   "mimetype": "text/x-python",
   "name": "python",
   "nbconvert_exporter": "python",
   "pygments_lexer": "ipython3",
   "version": "3.12.7"
  },
  "papermill": {
   "default_parameters": {},
   "duration": 346.924353,
   "end_time": "2025-05-07T20:10:04.415272",
   "environment_variables": {},
   "exception": null,
   "input_path": "__notebook__.ipynb",
   "output_path": "__notebook__.ipynb",
   "parameters": {},
   "start_time": "2025-05-07T20:04:17.490919",
   "version": "2.6.0"
  }
 },
 "nbformat": 4,
 "nbformat_minor": 5
}

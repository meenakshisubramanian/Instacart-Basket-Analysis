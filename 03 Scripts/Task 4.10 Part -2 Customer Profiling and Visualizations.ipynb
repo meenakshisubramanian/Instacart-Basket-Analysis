{
 "cells": [
  {
   "cell_type": "code",
   "execution_count": 1,
   "id": "5caa6d49",
   "metadata": {
    "_cell_guid": "b1076dfc-b9ad-4769-8c92-a6c4dae69d19",
    "_uuid": "8f2839f25d086af736a60e9eeb907d3b93b6e0e5",
    "execution": {
     "iopub.execute_input": "2025-05-14T19:49:06.855984Z",
     "iopub.status.busy": "2025-05-14T19:49:06.855672Z",
     "iopub.status.idle": "2025-05-14T19:49:10.459265Z",
     "shell.execute_reply": "2025-05-14T19:49:10.458275Z"
    },
    "papermill": {
     "duration": 3.616083,
     "end_time": "2025-05-14T19:49:10.460766",
     "exception": false,
     "start_time": "2025-05-14T19:49:06.844683",
     "status": "completed"
    },
    "tags": []
   },
   "outputs": [
    {
     "name": "stdout",
     "output_type": "stream",
     "text": [
      "/kaggle/input/merged-orderproductcustomercharts/orders_products_customers_merged_with charts.pkl\n",
      "/kaggle/input/orderproductsmerge/orders_products_merged_derived.pkl\n",
      "/kaggle/input/departmentdataset/departments_wrangled.csv\n"
     ]
    }
   ],
   "source": [
    "# This Python 3 environment comes with many helpful analytics libraries installed\n",
    "# It is defined by the kaggle/python Docker image: https://github.com/kaggle/docker-python\n",
    "# For example, here's several helpful packages to load\n",
    "\n",
    "import pandas as pd\n",
    "import numpy as np\n",
    "import os\n",
    "import matplotlib.pyplot as plt\n",
    "import seaborn as sns\n",
    "import scipy\n",
    "\n",
    "# Input data files are available in the read-only \"../input/\" directory\n",
    "# For example, running this (by clicking run or pressing Shift+Enter) will list all files under the input directory\n",
    "\n",
    "import os\n",
    "for dirname, _, filenames in os.walk('/kaggle/input'):\n",
    "    for filename in filenames:\n",
    "        print(os.path.join(dirname, filename))\n",
    "\n",
    "# You can write up to 20GB to the current directory (/kaggle/working/) that gets preserved as output when you create a version using \"Save & Run All\" \n",
    "# You can also write temporary files to /kaggle/temp/, but they won't be saved outside of the current session"
   ]
  },
  {
   "cell_type": "code",
   "execution_count": 2,
   "id": "0c63990e",
   "metadata": {
    "execution": {
     "iopub.execute_input": "2025-05-14T19:49:10.480028Z",
     "iopub.status.busy": "2025-05-14T19:49:10.479558Z",
     "iopub.status.idle": "2025-05-14T19:49:57.946511Z",
     "shell.execute_reply": "2025-05-14T19:49:57.945646Z"
    },
    "papermill": {
     "duration": 47.478583,
     "end_time": "2025-05-14T19:49:57.948237",
     "exception": false,
     "start_time": "2025-05-14T19:49:10.469654",
     "status": "completed"
    },
    "tags": []
   },
   "outputs": [],
   "source": [
    "df_updated1=pd.read_pickle('/kaggle/input/merged-orderproductcustomercharts/orders_products_customers_merged_with charts.pkl')"
   ]
  },
  {
   "cell_type": "code",
   "execution_count": 3,
   "id": "5319667d",
   "metadata": {
    "execution": {
     "iopub.execute_input": "2025-05-14T19:49:57.967064Z",
     "iopub.status.busy": "2025-05-14T19:49:57.966287Z",
     "iopub.status.idle": "2025-05-14T19:49:57.982962Z",
     "shell.execute_reply": "2025-05-14T19:49:57.982246Z"
    },
    "papermill": {
     "duration": 0.027366,
     "end_time": "2025-05-14T19:49:57.984463",
     "exception": false,
     "start_time": "2025-05-14T19:49:57.957097",
     "status": "completed"
    },
    "tags": []
   },
   "outputs": [],
   "source": [
    "df_department=pd.read_csv('/kaggle/input/departmentdataset/departments_wrangled.csv')"
   ]
  },
  {
   "cell_type": "code",
   "execution_count": 4,
   "id": "1a74324a",
   "metadata": {
    "execution": {
     "iopub.execute_input": "2025-05-14T19:49:58.002457Z",
     "iopub.status.busy": "2025-05-14T19:49:58.002168Z",
     "iopub.status.idle": "2025-05-14T19:49:58.025452Z",
     "shell.execute_reply": "2025-05-14T19:49:58.024592Z"
    },
    "papermill": {
     "duration": 0.033735,
     "end_time": "2025-05-14T19:49:58.026857",
     "exception": false,
     "start_time": "2025-05-14T19:49:57.993122",
     "status": "completed"
    },
    "tags": []
   },
   "outputs": [
    {
     "data": {
      "text/html": [
       "<div>\n",
       "<style scoped>\n",
       "    .dataframe tbody tr th:only-of-type {\n",
       "        vertical-align: middle;\n",
       "    }\n",
       "\n",
       "    .dataframe tbody tr th {\n",
       "        vertical-align: top;\n",
       "    }\n",
       "\n",
       "    .dataframe thead th {\n",
       "        text-align: right;\n",
       "    }\n",
       "</style>\n",
       "<table border=\"1\" class=\"dataframe\">\n",
       "  <thead>\n",
       "    <tr style=\"text-align: right;\">\n",
       "      <th></th>\n",
       "      <th>Unnamed: 0</th>\n",
       "      <th>department</th>\n",
       "    </tr>\n",
       "  </thead>\n",
       "  <tbody>\n",
       "    <tr>\n",
       "      <th>0</th>\n",
       "      <td>1</td>\n",
       "      <td>frozen</td>\n",
       "    </tr>\n",
       "    <tr>\n",
       "      <th>1</th>\n",
       "      <td>2</td>\n",
       "      <td>other</td>\n",
       "    </tr>\n",
       "    <tr>\n",
       "      <th>2</th>\n",
       "      <td>3</td>\n",
       "      <td>bakery</td>\n",
       "    </tr>\n",
       "    <tr>\n",
       "      <th>3</th>\n",
       "      <td>4</td>\n",
       "      <td>produce</td>\n",
       "    </tr>\n",
       "    <tr>\n",
       "      <th>4</th>\n",
       "      <td>5</td>\n",
       "      <td>alcohol</td>\n",
       "    </tr>\n",
       "    <tr>\n",
       "      <th>5</th>\n",
       "      <td>6</td>\n",
       "      <td>international</td>\n",
       "    </tr>\n",
       "    <tr>\n",
       "      <th>6</th>\n",
       "      <td>7</td>\n",
       "      <td>beverages</td>\n",
       "    </tr>\n",
       "    <tr>\n",
       "      <th>7</th>\n",
       "      <td>8</td>\n",
       "      <td>pets</td>\n",
       "    </tr>\n",
       "    <tr>\n",
       "      <th>8</th>\n",
       "      <td>9</td>\n",
       "      <td>dry goods pasta</td>\n",
       "    </tr>\n",
       "    <tr>\n",
       "      <th>9</th>\n",
       "      <td>10</td>\n",
       "      <td>bulk</td>\n",
       "    </tr>\n",
       "    <tr>\n",
       "      <th>10</th>\n",
       "      <td>11</td>\n",
       "      <td>personal care</td>\n",
       "    </tr>\n",
       "    <tr>\n",
       "      <th>11</th>\n",
       "      <td>12</td>\n",
       "      <td>meat seafood</td>\n",
       "    </tr>\n",
       "    <tr>\n",
       "      <th>12</th>\n",
       "      <td>13</td>\n",
       "      <td>pantry</td>\n",
       "    </tr>\n",
       "    <tr>\n",
       "      <th>13</th>\n",
       "      <td>14</td>\n",
       "      <td>breakfast</td>\n",
       "    </tr>\n",
       "    <tr>\n",
       "      <th>14</th>\n",
       "      <td>15</td>\n",
       "      <td>canned goods</td>\n",
       "    </tr>\n",
       "    <tr>\n",
       "      <th>15</th>\n",
       "      <td>16</td>\n",
       "      <td>dairy eggs</td>\n",
       "    </tr>\n",
       "    <tr>\n",
       "      <th>16</th>\n",
       "      <td>17</td>\n",
       "      <td>household</td>\n",
       "    </tr>\n",
       "    <tr>\n",
       "      <th>17</th>\n",
       "      <td>18</td>\n",
       "      <td>babies</td>\n",
       "    </tr>\n",
       "    <tr>\n",
       "      <th>18</th>\n",
       "      <td>19</td>\n",
       "      <td>snacks</td>\n",
       "    </tr>\n",
       "    <tr>\n",
       "      <th>19</th>\n",
       "      <td>20</td>\n",
       "      <td>deli</td>\n",
       "    </tr>\n",
       "    <tr>\n",
       "      <th>20</th>\n",
       "      <td>21</td>\n",
       "      <td>missing</td>\n",
       "    </tr>\n",
       "  </tbody>\n",
       "</table>\n",
       "</div>"
      ],
      "text/plain": [
       "    Unnamed: 0       department\n",
       "0            1           frozen\n",
       "1            2            other\n",
       "2            3           bakery\n",
       "3            4          produce\n",
       "4            5          alcohol\n",
       "5            6    international\n",
       "6            7        beverages\n",
       "7            8             pets\n",
       "8            9  dry goods pasta\n",
       "9           10             bulk\n",
       "10          11    personal care\n",
       "11          12     meat seafood\n",
       "12          13           pantry\n",
       "13          14        breakfast\n",
       "14          15     canned goods\n",
       "15          16       dairy eggs\n",
       "16          17        household\n",
       "17          18           babies\n",
       "18          19           snacks\n",
       "19          20             deli\n",
       "20          21          missing"
      ]
     },
     "execution_count": 4,
     "metadata": {},
     "output_type": "execute_result"
    }
   ],
   "source": [
    "df_department"
   ]
  },
  {
   "cell_type": "code",
   "execution_count": 5,
   "id": "9715efff",
   "metadata": {
    "execution": {
     "iopub.execute_input": "2025-05-14T19:49:58.046597Z",
     "iopub.status.busy": "2025-05-14T19:49:58.045772Z",
     "iopub.status.idle": "2025-05-14T19:49:58.053626Z",
     "shell.execute_reply": "2025-05-14T19:49:58.052842Z"
    },
    "papermill": {
     "duration": 0.019047,
     "end_time": "2025-05-14T19:49:58.055053",
     "exception": false,
     "start_time": "2025-05-14T19:49:58.036006",
     "status": "completed"
    },
    "tags": []
   },
   "outputs": [],
   "source": [
    "#renaming of Unnamed: 0 to department_id\n",
    "df_department.rename(columns={'Unnamed: 0': 'department_id'}, inplace=True)"
   ]
  },
  {
   "cell_type": "code",
   "execution_count": 6,
   "id": "6a39c9f5",
   "metadata": {
    "execution": {
     "iopub.execute_input": "2025-05-14T19:49:58.073663Z",
     "iopub.status.busy": "2025-05-14T19:49:58.073363Z",
     "iopub.status.idle": "2025-05-14T19:51:05.794208Z",
     "shell.execute_reply": "2025-05-14T19:51:05.792589Z"
    },
    "papermill": {
     "duration": 67.734378,
     "end_time": "2025-05-14T19:51:05.798209",
     "exception": false,
     "start_time": "2025-05-14T19:49:58.063831",
     "status": "completed"
    },
    "tags": []
   },
   "outputs": [],
   "source": [
    "#merging updated1 df from part 1 of task 4.10 to departments w.r.t age, income level and products \n",
    "merged_df = df_updated1.merge(df_department, on = 'department_id', indicator = 'created')\n"
   ]
  },
  {
   "cell_type": "code",
   "execution_count": 7,
   "id": "d5e59402",
   "metadata": {
    "execution": {
     "iopub.execute_input": "2025-05-14T19:51:05.820575Z",
     "iopub.status.busy": "2025-05-14T19:51:05.820265Z",
     "iopub.status.idle": "2025-05-14T19:51:59.435275Z",
     "shell.execute_reply": "2025-05-14T19:51:59.433992Z"
    },
    "papermill": {
     "duration": 53.627557,
     "end_time": "2025-05-14T19:51:59.437647",
     "exception": false,
     "start_time": "2025-05-14T19:51:05.810090",
     "status": "completed"
    },
    "tags": []
   },
   "outputs": [],
   "source": [
    "# exporting the latest dataframe with orders,products,customers and departments\n",
    "merged_df.to_pickle('orders_products_customers_deparments.pkl')\n"
   ]
  },
  {
   "cell_type": "code",
   "execution_count": 8,
   "id": "e6103335",
   "metadata": {
    "execution": {
     "iopub.execute_input": "2025-05-14T19:51:59.467597Z",
     "iopub.status.busy": "2025-05-14T19:51:59.467144Z",
     "iopub.status.idle": "2025-05-14T19:52:01.082405Z",
     "shell.execute_reply": "2025-05-14T19:52:01.081390Z"
    },
    "papermill": {
     "duration": 1.631595,
     "end_time": "2025-05-14T19:52:01.083861",
     "exception": false,
     "start_time": "2025-05-14T19:51:59.452266",
     "status": "completed"
    },
    "tags": []
   },
   "outputs": [],
   "source": [
    "BarChart_department=merged_df['department'].value_counts(ascending=True)"
   ]
  },
  {
   "cell_type": "code",
   "execution_count": 9,
   "id": "9d360623",
   "metadata": {
    "execution": {
     "iopub.execute_input": "2025-05-14T19:52:01.102488Z",
     "iopub.status.busy": "2025-05-14T19:52:01.102180Z",
     "iopub.status.idle": "2025-05-14T19:52:01.109105Z",
     "shell.execute_reply": "2025-05-14T19:52:01.108175Z"
    },
    "papermill": {
     "duration": 0.01845,
     "end_time": "2025-05-14T19:52:01.111170",
     "exception": false,
     "start_time": "2025-05-14T19:52:01.092720",
     "status": "completed"
    },
    "tags": []
   },
   "outputs": [
    {
     "data": {
      "text/plain": [
       "department\n",
       "bulk                 32841\n",
       "other                33415\n",
       "missing              62541\n",
       "pets                 90339\n",
       "alcohol             139573\n",
       "international       248722\n",
       "babies              403066\n",
       "personal care       411807\n",
       "breakfast           653419\n",
       "meat seafood        655729\n",
       "household           678295\n",
       "dry goods pasta     797683\n",
       "deli                978050\n",
       "canned goods        982041\n",
       "bakery             1092488\n",
       "pantry             1732114\n",
       "frozen             2059325\n",
       "beverages          2507241\n",
       "snacks             2699351\n",
       "dairy eggs         5053440\n",
       "produce            8859944\n",
       "Name: count, dtype: int64"
      ]
     },
     "execution_count": 9,
     "metadata": {},
     "output_type": "execute_result"
    }
   ],
   "source": [
    "BarChart_department"
   ]
  },
  {
   "cell_type": "code",
   "execution_count": 10,
   "id": "d6a6f1d2",
   "metadata": {
    "execution": {
     "iopub.execute_input": "2025-05-14T19:52:01.131757Z",
     "iopub.status.busy": "2025-05-14T19:52:01.131453Z",
     "iopub.status.idle": "2025-05-14T19:52:01.815460Z",
     "shell.execute_reply": "2025-05-14T19:52:01.814556Z"
    },
    "papermill": {
     "duration": 0.696191,
     "end_time": "2025-05-14T19:52:01.817298",
     "exception": false,
     "start_time": "2025-05-14T19:52:01.121107",
     "status": "completed"
    },
    "tags": []
   },
   "outputs": [
    {
     "data": {
      "image/png": "[encoded data removed]",
      "text/plain": [
       "<Figure size 640x480 with 1 Axes>"
      ]
     },
     "metadata": {},
     "output_type": "display_data"
    }
   ],
   "source": [
    "# creating a horizontal barchart for department file\n",
    "Department_Products = BarChart_department.plot(kind = 'barh', color = 'lightgreen', xlabel = 'Count', title='Count of Products ordered by Department')"
   ]
  },
  {
   "cell_type": "code",
   "execution_count": 11,
   "id": "a44bdd9a",
   "metadata": {
    "execution": {
     "iopub.execute_input": "2025-05-14T19:52:01.838612Z",
     "iopub.status.busy": "2025-05-14T19:52:01.838249Z",
     "iopub.status.idle": "2025-05-14T19:52:01.930501Z",
     "shell.execute_reply": "2025-05-14T19:52:01.929483Z"
    },
    "papermill": {
     "duration": 0.105077,
     "end_time": "2025-05-14T19:52:01.932263",
     "exception": false,
     "start_time": "2025-05-14T19:52:01.827186",
     "status": "completed"
    },
    "tags": []
   },
   "outputs": [],
   "source": [
    "Department_Products.figure.savefig('BarChart_Department.png')"
   ]
  },
  {
   "cell_type": "code",
   "execution_count": 12,
   "id": "0f9b5fbc",
   "metadata": {
    "execution": {
     "iopub.execute_input": "2025-05-14T19:52:01.952771Z",
     "iopub.status.busy": "2025-05-14T19:52:01.952441Z",
     "iopub.status.idle": "2025-05-14T19:52:01.959385Z",
     "shell.execute_reply": "2025-05-14T19:52:01.958704Z"
    },
    "papermill": {
     "duration": 0.018808,
     "end_time": "2025-05-14T19:52:01.960732",
     "exception": false,
     "start_time": "2025-05-14T19:52:01.941924",
     "status": "completed"
    },
    "tags": []
   },
   "outputs": [
    {
     "data": {
      "text/plain": [
       "Index(['order_id', 'user_id', 'order_number', 'orders_day_of_week',\n",
       "       'order_hour_of_day', 'days_since_previous_order', 'product_id',\n",
       "       'add_to_cart_order', 'reordered', 'Unnamed: 0', 'product_name',\n",
       "       'aisle_id', 'department_id', 'prices', 'max_order', 'loyalty_flag',\n",
       "       'spending_average', 'spender_flag', 'customer_frequency',\n",
       "       'frequency_flag', 'first_name', 'surname', 'gender', 'state', 'age',\n",
       "       'date_joined', 'n_dependants', 'fam_status', 'income', '_merge',\n",
       "       'region', 'customer_activity', 'age_group', 'income_group',\n",
       "       'dependant_flag', 'department', 'created'],\n",
       "      dtype='object')"
      ]
     },
     "execution_count": 12,
     "metadata": {},
     "output_type": "execute_result"
    }
   ],
   "source": [
    "merged_df.columns"
   ]
  },
  {
   "cell_type": "code",
   "execution_count": 13,
   "id": "409fa8d9",
   "metadata": {
    "execution": {
     "iopub.execute_input": "2025-05-14T19:52:01.980972Z",
     "iopub.status.busy": "2025-05-14T19:52:01.980610Z",
     "iopub.status.idle": "2025-05-14T19:52:10.988153Z",
     "shell.execute_reply": "2025-05-14T19:52:10.987401Z"
    },
    "papermill": {
     "duration": 9.019453,
     "end_time": "2025-05-14T19:52:10.989792",
     "exception": false,
     "start_time": "2025-05-14T19:52:01.970339",
     "status": "completed"
    },
    "tags": []
   },
   "outputs": [],
   "source": [
    "# using crosstab function on department with age group\n",
    "Cross_DepartmentAgeGroup= pd.crosstab(merged_df['age_group'],merged_df['department'], dropna=False)"
   ]
  },
  {
   "cell_type": "code",
   "execution_count": 14,
   "id": "5271cdd4",
   "metadata": {
    "execution": {
     "iopub.execute_input": "2025-05-14T19:52:11.010633Z",
     "iopub.status.busy": "2025-05-14T19:52:11.010303Z",
     "iopub.status.idle": "2025-05-14T19:52:11.025275Z",
     "shell.execute_reply": "2025-05-14T19:52:11.024510Z"
    },
    "papermill": {
     "duration": 0.026754,
     "end_time": "2025-05-14T19:52:11.026521",
     "exception": false,
     "start_time": "2025-05-14T19:52:10.999767",
     "status": "completed"
    },
    "tags": []
   },
   "outputs": [
    {
     "data": {
      "text/html": [
       "<div>\n",
       "<style scoped>\n",
       "    .dataframe tbody tr th:only-of-type {\n",
       "        vertical-align: middle;\n",
       "    }\n",
       "\n",
       "    .dataframe tbody tr th {\n",
       "        vertical-align: top;\n",
       "    }\n",
       "\n",
       "    .dataframe thead th {\n",
       "        text-align: right;\n",
       "    }\n",
       "</style>\n",
       "<table border=\"1\" class=\"dataframe\">\n",
       "  <thead>\n",
       "    <tr style=\"text-align: right;\">\n",
       "      <th>department</th>\n",
       "      <th>alcohol</th>\n",
       "      <th>babies</th>\n",
       "      <th>bakery</th>\n",
       "      <th>beverages</th>\n",
       "      <th>breakfast</th>\n",
       "      <th>bulk</th>\n",
       "      <th>canned goods</th>\n",
       "      <th>dairy eggs</th>\n",
       "      <th>deli</th>\n",
       "      <th>dry goods pasta</th>\n",
       "      <th>...</th>\n",
       "      <th>household</th>\n",
       "      <th>international</th>\n",
       "      <th>meat seafood</th>\n",
       "      <th>missing</th>\n",
       "      <th>other</th>\n",
       "      <th>pantry</th>\n",
       "      <th>personal care</th>\n",
       "      <th>pets</th>\n",
       "      <th>produce</th>\n",
       "      <th>snacks</th>\n",
       "    </tr>\n",
       "    <tr>\n",
       "      <th>age_group</th>\n",
       "      <th></th>\n",
       "      <th></th>\n",
       "      <th></th>\n",
       "      <th></th>\n",
       "      <th></th>\n",
       "      <th></th>\n",
       "      <th></th>\n",
       "      <th></th>\n",
       "      <th></th>\n",
       "      <th></th>\n",
       "      <th></th>\n",
       "      <th></th>\n",
       "      <th></th>\n",
       "      <th></th>\n",
       "      <th></th>\n",
       "      <th></th>\n",
       "      <th></th>\n",
       "      <th></th>\n",
       "      <th></th>\n",
       "      <th></th>\n",
       "      <th></th>\n",
       "    </tr>\n",
       "  </thead>\n",
       "  <tbody>\n",
       "    <tr>\n",
       "      <th>Adults</th>\n",
       "      <td>85869</td>\n",
       "      <td>248534</td>\n",
       "      <td>667658</td>\n",
       "      <td>1529470</td>\n",
       "      <td>399348</td>\n",
       "      <td>19829</td>\n",
       "      <td>599898</td>\n",
       "      <td>3085460</td>\n",
       "      <td>598183</td>\n",
       "      <td>485512</td>\n",
       "      <td>...</td>\n",
       "      <td>413172</td>\n",
       "      <td>152074</td>\n",
       "      <td>397468</td>\n",
       "      <td>38092</td>\n",
       "      <td>20410</td>\n",
       "      <td>1057387</td>\n",
       "      <td>252746</td>\n",
       "      <td>53683</td>\n",
       "      <td>5408831</td>\n",
       "      <td>1650810</td>\n",
       "    </tr>\n",
       "    <tr>\n",
       "      <th>Senior</th>\n",
       "      <td>35266</td>\n",
       "      <td>104216</td>\n",
       "      <td>288610</td>\n",
       "      <td>667439</td>\n",
       "      <td>170859</td>\n",
       "      <td>8780</td>\n",
       "      <td>259659</td>\n",
       "      <td>1336003</td>\n",
       "      <td>258631</td>\n",
       "      <td>211025</td>\n",
       "      <td>...</td>\n",
       "      <td>181050</td>\n",
       "      <td>65257</td>\n",
       "      <td>176134</td>\n",
       "      <td>16286</td>\n",
       "      <td>8666</td>\n",
       "      <td>458942</td>\n",
       "      <td>107730</td>\n",
       "      <td>24467</td>\n",
       "      <td>2350914</td>\n",
       "      <td>711539</td>\n",
       "    </tr>\n",
       "    <tr>\n",
       "      <th>Youth</th>\n",
       "      <td>18438</td>\n",
       "      <td>50316</td>\n",
       "      <td>136220</td>\n",
       "      <td>310332</td>\n",
       "      <td>83212</td>\n",
       "      <td>4232</td>\n",
       "      <td>122484</td>\n",
       "      <td>631977</td>\n",
       "      <td>121236</td>\n",
       "      <td>101146</td>\n",
       "      <td>...</td>\n",
       "      <td>84073</td>\n",
       "      <td>31391</td>\n",
       "      <td>82127</td>\n",
       "      <td>8163</td>\n",
       "      <td>4339</td>\n",
       "      <td>215785</td>\n",
       "      <td>51331</td>\n",
       "      <td>12189</td>\n",
       "      <td>1100199</td>\n",
       "      <td>337002</td>\n",
       "    </tr>\n",
       "  </tbody>\n",
       "</table>\n",
       "<p>3 rows × 21 columns</p>\n",
       "</div>"
      ],
      "text/plain": [
       "department  alcohol  babies  bakery  beverages  breakfast   bulk  \\\n",
       "age_group                                                          \n",
       "Adults        85869  248534  667658    1529470     399348  19829   \n",
       "Senior        35266  104216  288610     667439     170859   8780   \n",
       "Youth         18438   50316  136220     310332      83212   4232   \n",
       "\n",
       "department  canned goods  dairy eggs    deli  dry goods pasta  ...  household  \\\n",
       "age_group                                                      ...              \n",
       "Adults            599898     3085460  598183           485512  ...     413172   \n",
       "Senior            259659     1336003  258631           211025  ...     181050   \n",
       "Youth             122484      631977  121236           101146  ...      84073   \n",
       "\n",
       "department  international  meat seafood  missing  other   pantry  \\\n",
       "age_group                                                          \n",
       "Adults             152074        397468    38092  20410  1057387   \n",
       "Senior              65257        176134    16286   8666   458942   \n",
       "Youth               31391         82127     8163   4339   215785   \n",
       "\n",
       "department  personal care   pets  produce   snacks  \n",
       "age_group                                           \n",
       "Adults             252746  53683  5408831  1650810  \n",
       "Senior             107730  24467  2350914   711539  \n",
       "Youth               51331  12189  1100199   337002  \n",
       "\n",
       "[3 rows x 21 columns]"
      ]
     },
     "execution_count": 14,
     "metadata": {},
     "output_type": "execute_result"
    }
   ],
   "source": [
    "Cross_DepartmentAgeGroup"
   ]
  },
  {
   "cell_type": "code",
   "execution_count": 15,
   "id": "c7522373",
   "metadata": {
    "execution": {
     "iopub.execute_input": "2025-05-14T19:52:11.048440Z",
     "iopub.status.busy": "2025-05-14T19:52:11.047801Z",
     "iopub.status.idle": "2025-05-14T19:52:19.876655Z",
     "shell.execute_reply": "2025-05-14T19:52:19.875784Z"
    },
    "papermill": {
     "duration": 8.841264,
     "end_time": "2025-05-14T19:52:19.878413",
     "exception": false,
     "start_time": "2025-05-14T19:52:11.037149",
     "status": "completed"
    },
    "tags": []
   },
   "outputs": [],
   "source": [
    "Cross_DepartmentIncome=pd.crosstab(merged_df['income_group'],merged_df['department'],dropna= False)"
   ]
  },
  {
   "cell_type": "code",
   "execution_count": 16,
   "id": "e1e50985",
   "metadata": {
    "execution": {
     "iopub.execute_input": "2025-05-14T19:52:19.899515Z",
     "iopub.status.busy": "2025-05-14T19:52:19.899199Z",
     "iopub.status.idle": "2025-05-14T19:52:19.912835Z",
     "shell.execute_reply": "2025-05-14T19:52:19.911874Z"
    },
    "papermill": {
     "duration": 0.025904,
     "end_time": "2025-05-14T19:52:19.914313",
     "exception": false,
     "start_time": "2025-05-14T19:52:19.888409",
     "status": "completed"
    },
    "tags": []
   },
   "outputs": [
    {
     "data": {
      "text/html": [
       "<div>\n",
       "<style scoped>\n",
       "    .dataframe tbody tr th:only-of-type {\n",
       "        vertical-align: middle;\n",
       "    }\n",
       "\n",
       "    .dataframe tbody tr th {\n",
       "        vertical-align: top;\n",
       "    }\n",
       "\n",
       "    .dataframe thead th {\n",
       "        text-align: right;\n",
       "    }\n",
       "</style>\n",
       "<table border=\"1\" class=\"dataframe\">\n",
       "  <thead>\n",
       "    <tr style=\"text-align: right;\">\n",
       "      <th>department</th>\n",
       "      <th>alcohol</th>\n",
       "      <th>babies</th>\n",
       "      <th>bakery</th>\n",
       "      <th>beverages</th>\n",
       "      <th>breakfast</th>\n",
       "      <th>bulk</th>\n",
       "      <th>canned goods</th>\n",
       "      <th>dairy eggs</th>\n",
       "      <th>deli</th>\n",
       "      <th>dry goods pasta</th>\n",
       "      <th>...</th>\n",
       "      <th>household</th>\n",
       "      <th>international</th>\n",
       "      <th>meat seafood</th>\n",
       "      <th>missing</th>\n",
       "      <th>other</th>\n",
       "      <th>pantry</th>\n",
       "      <th>personal care</th>\n",
       "      <th>pets</th>\n",
       "      <th>produce</th>\n",
       "      <th>snacks</th>\n",
       "    </tr>\n",
       "    <tr>\n",
       "      <th>income_group</th>\n",
       "      <th></th>\n",
       "      <th></th>\n",
       "      <th></th>\n",
       "      <th></th>\n",
       "      <th></th>\n",
       "      <th></th>\n",
       "      <th></th>\n",
       "      <th></th>\n",
       "      <th></th>\n",
       "      <th></th>\n",
       "      <th></th>\n",
       "      <th></th>\n",
       "      <th></th>\n",
       "      <th></th>\n",
       "      <th></th>\n",
       "      <th></th>\n",
       "      <th></th>\n",
       "      <th></th>\n",
       "      <th></th>\n",
       "      <th></th>\n",
       "      <th></th>\n",
       "    </tr>\n",
       "  </thead>\n",
       "  <tbody>\n",
       "    <tr>\n",
       "      <th>HIGH</th>\n",
       "      <td>23431</td>\n",
       "      <td>52210</td>\n",
       "      <td>145039</td>\n",
       "      <td>306242</td>\n",
       "      <td>81517</td>\n",
       "      <td>3601</td>\n",
       "      <td>128763</td>\n",
       "      <td>644505</td>\n",
       "      <td>122936</td>\n",
       "      <td>103465</td>\n",
       "      <td>...</td>\n",
       "      <td>90179</td>\n",
       "      <td>31870</td>\n",
       "      <td>88994</td>\n",
       "      <td>7946</td>\n",
       "      <td>4432</td>\n",
       "      <td>225898</td>\n",
       "      <td>52197</td>\n",
       "      <td>12668</td>\n",
       "      <td>1107778</td>\n",
       "      <td>299077</td>\n",
       "    </tr>\n",
       "    <tr>\n",
       "      <th>LOW</th>\n",
       "      <td>17104</td>\n",
       "      <td>28456</td>\n",
       "      <td>102955</td>\n",
       "      <td>371586</td>\n",
       "      <td>88698</td>\n",
       "      <td>4588</td>\n",
       "      <td>75482</td>\n",
       "      <td>486140</td>\n",
       "      <td>102717</td>\n",
       "      <td>61483</td>\n",
       "      <td>...</td>\n",
       "      <td>83833</td>\n",
       "      <td>20793</td>\n",
       "      <td>32924</td>\n",
       "      <td>6288</td>\n",
       "      <td>3745</td>\n",
       "      <td>159544</td>\n",
       "      <td>45879</td>\n",
       "      <td>8273</td>\n",
       "      <td>799312</td>\n",
       "      <td>542916</td>\n",
       "    </tr>\n",
       "    <tr>\n",
       "      <th>MEDIUM</th>\n",
       "      <td>99038</td>\n",
       "      <td>322400</td>\n",
       "      <td>844494</td>\n",
       "      <td>1829413</td>\n",
       "      <td>483204</td>\n",
       "      <td>24652</td>\n",
       "      <td>777796</td>\n",
       "      <td>3922795</td>\n",
       "      <td>752397</td>\n",
       "      <td>632735</td>\n",
       "      <td>...</td>\n",
       "      <td>504283</td>\n",
       "      <td>196059</td>\n",
       "      <td>533811</td>\n",
       "      <td>48307</td>\n",
       "      <td>25238</td>\n",
       "      <td>1346672</td>\n",
       "      <td>313731</td>\n",
       "      <td>69398</td>\n",
       "      <td>6952854</td>\n",
       "      <td>1857358</td>\n",
       "    </tr>\n",
       "  </tbody>\n",
       "</table>\n",
       "<p>3 rows × 21 columns</p>\n",
       "</div>"
      ],
      "text/plain": [
       "department    alcohol  babies  bakery  beverages  breakfast   bulk  \\\n",
       "income_group                                                         \n",
       "HIGH            23431   52210  145039     306242      81517   3601   \n",
       "LOW             17104   28456  102955     371586      88698   4588   \n",
       "MEDIUM          99038  322400  844494    1829413     483204  24652   \n",
       "\n",
       "department    canned goods  dairy eggs    deli  dry goods pasta  ...  \\\n",
       "income_group                                                     ...   \n",
       "HIGH                128763      644505  122936           103465  ...   \n",
       "LOW                  75482      486140  102717            61483  ...   \n",
       "MEDIUM              777796     3922795  752397           632735  ...   \n",
       "\n",
       "department    household  international  meat seafood  missing  other   pantry  \\\n",
       "income_group                                                                    \n",
       "HIGH              90179          31870         88994     7946   4432   225898   \n",
       "LOW               83833          20793         32924     6288   3745   159544   \n",
       "MEDIUM           504283         196059        533811    48307  25238  1346672   \n",
       "\n",
       "department    personal care   pets  produce   snacks  \n",
       "income_group                                          \n",
       "HIGH                  52197  12668  1107778   299077  \n",
       "LOW                   45879   8273   799312   542916  \n",
       "MEDIUM               313731  69398  6952854  1857358  \n",
       "\n",
       "[3 rows x 21 columns]"
      ]
     },
     "execution_count": 16,
     "metadata": {},
     "output_type": "execute_result"
    }
   ],
   "source": [
    "Cross_DepartmentIncome"
   ]
  },
  {
   "cell_type": "markdown",
   "id": "260174cd",
   "metadata": {
    "papermill": {
     "duration": 0.117476,
     "end_time": "2025-05-14T19:52:20.042310",
     "exception": false,
     "start_time": "2025-05-14T19:52:19.924834",
     "status": "completed"
    },
    "tags": []
   },
   "source": [
    "7. Aggregate the max, mean, and min variables on a customer-profile level for usage frequency and expenditure."
   ]
  },
  {
   "cell_type": "code",
   "execution_count": 17,
   "id": "459964f8",
   "metadata": {
    "execution": {
     "iopub.execute_input": "2025-05-14T19:52:20.063603Z",
     "iopub.status.busy": "2025-05-14T19:52:20.063252Z",
     "iopub.status.idle": "2025-05-14T19:52:27.370636Z",
     "shell.execute_reply": "2025-05-14T19:52:27.369765Z"
    },
    "papermill": {
     "duration": 7.320056,
     "end_time": "2025-05-14T19:52:27.372418",
     "exception": false,
     "start_time": "2025-05-14T19:52:20.052362",
     "status": "completed"
    },
    "tags": []
   },
   "outputs": [],
   "source": [
    "df_updated=pd.read_pickle('/kaggle/input/orderproductsmerge/orders_products_merged_derived.pkl')"
   ]
  },
  {
   "cell_type": "code",
   "execution_count": 18,
   "id": "8b2abcb5",
   "metadata": {
    "execution": {
     "iopub.execute_input": "2025-05-14T19:52:27.394692Z",
     "iopub.status.busy": "2025-05-14T19:52:27.394393Z",
     "iopub.status.idle": "2025-05-14T19:52:40.989225Z",
     "shell.execute_reply": "2025-05-14T19:52:40.988400Z"
    },
    "papermill": {
     "duration": 13.60749,
     "end_time": "2025-05-14T19:52:40.990649",
     "exception": false,
     "start_time": "2025-05-14T19:52:27.383159",
     "status": "completed"
    },
    "tags": []
   },
   "outputs": [
    {
     "data": {
      "text/html": [
       "<div>\n",
       "<style scoped>\n",
       "    .dataframe tbody tr th:only-of-type {\n",
       "        vertical-align: middle;\n",
       "    }\n",
       "\n",
       "    .dataframe tbody tr th {\n",
       "        vertical-align: top;\n",
       "    }\n",
       "\n",
       "    .dataframe thead th {\n",
       "        text-align: right;\n",
       "    }\n",
       "</style>\n",
       "<table border=\"1\" class=\"dataframe\">\n",
       "  <thead>\n",
       "    <tr style=\"text-align: right;\">\n",
       "      <th></th>\n",
       "      <th>order_number</th>\n",
       "      <th>orders_day_of_week</th>\n",
       "      <th>order_hour_of_day</th>\n",
       "      <th>days_since_previous_order</th>\n",
       "      <th>product_id</th>\n",
       "      <th>add_to_cart_order</th>\n",
       "      <th>reordered</th>\n",
       "      <th>Unnamed: 0</th>\n",
       "      <th>aisle_id</th>\n",
       "      <th>department_id</th>\n",
       "      <th>prices</th>\n",
       "      <th>max_order</th>\n",
       "      <th>spending_average</th>\n",
       "      <th>customer_frequency</th>\n",
       "      <th>age</th>\n",
       "      <th>n_dependants</th>\n",
       "      <th>income</th>\n",
       "    </tr>\n",
       "  </thead>\n",
       "  <tbody>\n",
       "    <tr>\n",
       "      <th>count</th>\n",
       "      <td>3.017142e+07</td>\n",
       "      <td>3.017142e+07</td>\n",
       "      <td>3.017142e+07</td>\n",
       "      <td>2.866855e+07</td>\n",
       "      <td>3.017142e+07</td>\n",
       "      <td>3.017142e+07</td>\n",
       "      <td>3.017142e+07</td>\n",
       "      <td>3.017142e+07</td>\n",
       "      <td>3.017142e+07</td>\n",
       "      <td>3.017142e+07</td>\n",
       "      <td>3.017142e+07</td>\n",
       "      <td>3.017142e+07</td>\n",
       "      <td>3.017142e+07</td>\n",
       "      <td>3.017142e+07</td>\n",
       "      <td>3.017142e+07</td>\n",
       "      <td>3.017142e+07</td>\n",
       "      <td>3.017142e+07</td>\n",
       "    </tr>\n",
       "    <tr>\n",
       "      <th>mean</th>\n",
       "      <td>1.822380e+01</td>\n",
       "      <td>2.742373e+00</td>\n",
       "      <td>1.340360e+01</td>\n",
       "      <td>1.063360e+01</td>\n",
       "      <td>2.559794e+04</td>\n",
       "      <td>8.364752e+00</td>\n",
       "      <td>6.139803e-01</td>\n",
       "      <td>2.559965e+04</td>\n",
       "      <td>7.118457e+01</td>\n",
       "      <td>9.923708e+00</td>\n",
       "      <td>1.185801e+01</td>\n",
       "      <td>3.519922e+01</td>\n",
       "      <td>1.185801e+01</td>\n",
       "      <td>1.079307e+01</td>\n",
       "      <td>4.947082e+01</td>\n",
       "      <td>1.502004e+00</td>\n",
       "      <td>9.977020e+04</td>\n",
       "    </tr>\n",
       "    <tr>\n",
       "      <th>std</th>\n",
       "      <td>1.769653e+01</td>\n",
       "      <td>2.088409e+00</td>\n",
       "      <td>4.249694e+00</td>\n",
       "      <td>8.033114e+00</td>\n",
       "      <td>1.407927e+04</td>\n",
       "      <td>7.136493e+00</td>\n",
       "      <td>4.868352e-01</td>\n",
       "      <td>1.408082e+04</td>\n",
       "      <td>3.822635e+01</td>\n",
       "      <td>6.283019e+00</td>\n",
       "      <td>4.843307e+02</td>\n",
       "      <td>2.475268e+01</td>\n",
       "      <td>7.808287e+01</td>\n",
       "      <td>5.342124e+00</td>\n",
       "      <td>1.848772e+01</td>\n",
       "      <td>1.118931e+00</td>\n",
       "      <td>4.318342e+04</td>\n",
       "    </tr>\n",
       "    <tr>\n",
       "      <th>min</th>\n",
       "      <td>1.000000e+00</td>\n",
       "      <td>0.000000e+00</td>\n",
       "      <td>0.000000e+00</td>\n",
       "      <td>0.000000e+00</td>\n",
       "      <td>1.000000e+00</td>\n",
       "      <td>1.000000e+00</td>\n",
       "      <td>0.000000e+00</td>\n",
       "      <td>0.000000e+00</td>\n",
       "      <td>1.000000e+00</td>\n",
       "      <td>1.000000e+00</td>\n",
       "      <td>1.000000e+00</td>\n",
       "      <td>6.000000e+00</td>\n",
       "      <td>1.000000e+00</td>\n",
       "      <td>0.000000e+00</td>\n",
       "      <td>1.800000e+01</td>\n",
       "      <td>0.000000e+00</td>\n",
       "      <td>2.590300e+04</td>\n",
       "    </tr>\n",
       "    <tr>\n",
       "      <th>25%</th>\n",
       "      <td>6.000000e+00</td>\n",
       "      <td>1.000000e+00</td>\n",
       "      <td>1.000000e+01</td>\n",
       "      <td>5.000000e+00</td>\n",
       "      <td>1.354800e+04</td>\n",
       "      <td>3.000000e+00</td>\n",
       "      <td>0.000000e+00</td>\n",
       "      <td>1.354800e+04</td>\n",
       "      <td>3.100000e+01</td>\n",
       "      <td>4.000000e+00</td>\n",
       "      <td>4.200000e+00</td>\n",
       "      <td>1.500000e+01</td>\n",
       "      <td>7.395238e+00</td>\n",
       "      <td>6.716634e+00</td>\n",
       "      <td>3.300000e+01</td>\n",
       "      <td>1.000000e+00</td>\n",
       "      <td>6.742400e+04</td>\n",
       "    </tr>\n",
       "    <tr>\n",
       "      <th>50%</th>\n",
       "      <td>1.200000e+01</td>\n",
       "      <td>3.000000e+00</td>\n",
       "      <td>1.300000e+01</td>\n",
       "      <td>7.000000e+00</td>\n",
       "      <td>2.527900e+04</td>\n",
       "      <td>6.000000e+00</td>\n",
       "      <td>1.000000e+00</td>\n",
       "      <td>2.528000e+04</td>\n",
       "      <td>8.300000e+01</td>\n",
       "      <td>9.000000e+00</td>\n",
       "      <td>7.400000e+00</td>\n",
       "      <td>2.900000e+01</td>\n",
       "      <td>7.825000e+00</td>\n",
       "      <td>9.521276e+00</td>\n",
       "      <td>4.900000e+01</td>\n",
       "      <td>2.000000e+00</td>\n",
       "      <td>9.682300e+04</td>\n",
       "    </tr>\n",
       "    <tr>\n",
       "      <th>75%</th>\n",
       "      <td>2.500000e+01</td>\n",
       "      <td>5.000000e+00</td>\n",
       "      <td>1.600000e+01</td>\n",
       "      <td>1.400000e+01</td>\n",
       "      <td>3.794000e+04</td>\n",
       "      <td>1.100000e+01</td>\n",
       "      <td>1.000000e+00</td>\n",
       "      <td>3.794400e+04</td>\n",
       "      <td>1.070000e+02</td>\n",
       "      <td>1.600000e+01</td>\n",
       "      <td>1.130000e+01</td>\n",
       "      <td>4.900000e+01</td>\n",
       "      <td>8.246487e+00</td>\n",
       "      <td>1.404975e+01</td>\n",
       "      <td>6.500000e+01</td>\n",
       "      <td>3.000000e+00</td>\n",
       "      <td>1.281500e+05</td>\n",
       "    </tr>\n",
       "    <tr>\n",
       "      <th>max</th>\n",
       "      <td>9.900000e+01</td>\n",
       "      <td>6.000000e+00</td>\n",
       "      <td>2.300000e+01</td>\n",
       "      <td>3.000000e+01</td>\n",
       "      <td>4.968800e+04</td>\n",
       "      <td>1.450000e+02</td>\n",
       "      <td>1.000000e+00</td>\n",
       "      <td>4.969200e+04</td>\n",
       "      <td>1.340000e+02</td>\n",
       "      <td>2.100000e+01</td>\n",
       "      <td>9.999900e+04</td>\n",
       "      <td>9.900000e+01</td>\n",
       "      <td>1.500694e+04</td>\n",
       "      <td>3.000000e+01</td>\n",
       "      <td>8.100000e+01</td>\n",
       "      <td>3.000000e+00</td>\n",
       "      <td>5.939010e+05</td>\n",
       "    </tr>\n",
       "  </tbody>\n",
       "</table>\n",
       "</div>"
      ],
      "text/plain": [
       "       order_number  orders_day_of_week  order_hour_of_day  \\\n",
       "count  3.017142e+07        3.017142e+07       3.017142e+07   \n",
       "mean   1.822380e+01        2.742373e+00       1.340360e+01   \n",
       "std    1.769653e+01        2.088409e+00       4.249694e+00   \n",
       "min    1.000000e+00        0.000000e+00       0.000000e+00   \n",
       "25%    6.000000e+00        1.000000e+00       1.000000e+01   \n",
       "50%    1.200000e+01        3.000000e+00       1.300000e+01   \n",
       "75%    2.500000e+01        5.000000e+00       1.600000e+01   \n",
       "max    9.900000e+01        6.000000e+00       2.300000e+01   \n",
       "\n",
       "       days_since_previous_order    product_id  add_to_cart_order  \\\n",
       "count               2.866855e+07  3.017142e+07       3.017142e+07   \n",
       "mean                1.063360e+01  2.559794e+04       8.364752e+00   \n",
       "std                 8.033114e+00  1.407927e+04       7.136493e+00   \n",
       "min                 0.000000e+00  1.000000e+00       1.000000e+00   \n",
       "25%                 5.000000e+00  1.354800e+04       3.000000e+00   \n",
       "50%                 7.000000e+00  2.527900e+04       6.000000e+00   \n",
       "75%                 1.400000e+01  3.794000e+04       1.100000e+01   \n",
       "max                 3.000000e+01  4.968800e+04       1.450000e+02   \n",
       "\n",
       "          reordered    Unnamed: 0      aisle_id  department_id        prices  \\\n",
       "count  3.017142e+07  3.017142e+07  3.017142e+07   3.017142e+07  3.017142e+07   \n",
       "mean   6.139803e-01  2.559965e+04  7.118457e+01   9.923708e+00  1.185801e+01   \n",
       "std    4.868352e-01  1.408082e+04  3.822635e+01   6.283019e+00  4.843307e+02   \n",
       "min    0.000000e+00  0.000000e+00  1.000000e+00   1.000000e+00  1.000000e+00   \n",
       "25%    0.000000e+00  1.354800e+04  3.100000e+01   4.000000e+00  4.200000e+00   \n",
       "50%    1.000000e+00  2.528000e+04  8.300000e+01   9.000000e+00  7.400000e+00   \n",
       "75%    1.000000e+00  3.794400e+04  1.070000e+02   1.600000e+01  1.130000e+01   \n",
       "max    1.000000e+00  4.969200e+04  1.340000e+02   2.100000e+01  9.999900e+04   \n",
       "\n",
       "          max_order  spending_average  customer_frequency           age  \\\n",
       "count  3.017142e+07      3.017142e+07        3.017142e+07  3.017142e+07   \n",
       "mean   3.519922e+01      1.185801e+01        1.079307e+01  4.947082e+01   \n",
       "std    2.475268e+01      7.808287e+01        5.342124e+00  1.848772e+01   \n",
       "min    6.000000e+00      1.000000e+00        0.000000e+00  1.800000e+01   \n",
       "25%    1.500000e+01      7.395238e+00        6.716634e+00  3.300000e+01   \n",
       "50%    2.900000e+01      7.825000e+00        9.521276e+00  4.900000e+01   \n",
       "75%    4.900000e+01      8.246487e+00        1.404975e+01  6.500000e+01   \n",
       "max    9.900000e+01      1.500694e+04        3.000000e+01  8.100000e+01   \n",
       "\n",
       "       n_dependants        income  \n",
       "count  3.017142e+07  3.017142e+07  \n",
       "mean   1.502004e+00  9.977020e+04  \n",
       "std    1.118931e+00  4.318342e+04  \n",
       "min    0.000000e+00  2.590300e+04  \n",
       "25%    1.000000e+00  6.742400e+04  \n",
       "50%    2.000000e+00  9.682300e+04  \n",
       "75%    3.000000e+00  1.281500e+05  \n",
       "max    3.000000e+00  5.939010e+05  "
      ]
     },
     "execution_count": 18,
     "metadata": {},
     "output_type": "execute_result"
    }
   ],
   "source": [
    "merged_df.describe()"
   ]
  },
  {
   "cell_type": "markdown",
   "id": "292e4521",
   "metadata": {
    "papermill": {
     "duration": 0.011117,
     "end_time": "2025-05-14T19:52:41.012880",
     "exception": false,
     "start_time": "2025-05-14T19:52:41.001763",
     "status": "completed"
    },
    "tags": []
   },
   "source": []
  },
  {
   "cell_type": "code",
   "execution_count": 19,
   "id": "d523acbc",
   "metadata": {
    "execution": {
     "iopub.execute_input": "2025-05-14T19:52:41.035451Z",
     "iopub.status.busy": "2025-05-14T19:52:41.034684Z",
     "iopub.status.idle": "2025-05-14T19:52:46.978258Z",
     "shell.execute_reply": "2025-05-14T19:52:46.977377Z"
    },
    "papermill": {
     "duration": 5.956412,
     "end_time": "2025-05-14T19:52:46.979654",
     "exception": false,
     "start_time": "2025-05-14T19:52:41.023242",
     "status": "completed"
    },
    "tags": []
   },
   "outputs": [
    {
     "data": {
      "text/html": [
       "<div>\n",
       "<style scoped>\n",
       "    .dataframe tbody tr th:only-of-type {\n",
       "        vertical-align: middle;\n",
       "    }\n",
       "\n",
       "    .dataframe tbody tr th {\n",
       "        vertical-align: top;\n",
       "    }\n",
       "\n",
       "    .dataframe thead tr th {\n",
       "        text-align: left;\n",
       "    }\n",
       "\n",
       "    .dataframe thead tr:last-of-type th {\n",
       "        text-align: right;\n",
       "    }\n",
       "</style>\n",
       "<table border=\"1\" class=\"dataframe\">\n",
       "  <thead>\n",
       "    <tr>\n",
       "      <th></th>\n",
       "      <th colspan=\"3\" halign=\"left\">order_number</th>\n",
       "      <th colspan=\"3\" halign=\"left\">prices</th>\n",
       "    </tr>\n",
       "    <tr>\n",
       "      <th></th>\n",
       "      <th>max</th>\n",
       "      <th>min</th>\n",
       "      <th>mean</th>\n",
       "      <th>max</th>\n",
       "      <th>min</th>\n",
       "      <th>mean</th>\n",
       "    </tr>\n",
       "    <tr>\n",
       "      <th>user_id</th>\n",
       "      <th></th>\n",
       "      <th></th>\n",
       "      <th></th>\n",
       "      <th></th>\n",
       "      <th></th>\n",
       "      <th></th>\n",
       "    </tr>\n",
       "  </thead>\n",
       "  <tbody>\n",
       "    <tr>\n",
       "      <th>1</th>\n",
       "      <td>10</td>\n",
       "      <td>1</td>\n",
       "      <td>5.813559</td>\n",
       "      <td>14.000000</td>\n",
       "      <td>1.0</td>\n",
       "      <td>6.367797</td>\n",
       "    </tr>\n",
       "    <tr>\n",
       "      <th>1000</th>\n",
       "      <td>7</td>\n",
       "      <td>1</td>\n",
       "      <td>3.980583</td>\n",
       "      <td>15.000000</td>\n",
       "      <td>1.2</td>\n",
       "      <td>8.407767</td>\n",
       "    </tr>\n",
       "    <tr>\n",
       "      <th>10000</th>\n",
       "      <td>72</td>\n",
       "      <td>1</td>\n",
       "      <td>35.973443</td>\n",
       "      <td>24.200001</td>\n",
       "      <td>1.2</td>\n",
       "      <td>8.045421</td>\n",
       "    </tr>\n",
       "    <tr>\n",
       "      <th>100000</th>\n",
       "      <td>9</td>\n",
       "      <td>1</td>\n",
       "      <td>4.798246</td>\n",
       "      <td>16.200001</td>\n",
       "      <td>1.0</td>\n",
       "      <td>8.119298</td>\n",
       "    </tr>\n",
       "    <tr>\n",
       "      <th>100001</th>\n",
       "      <td>66</td>\n",
       "      <td>1</td>\n",
       "      <td>35.275523</td>\n",
       "      <td>18.700001</td>\n",
       "      <td>1.0</td>\n",
       "      <td>7.749815</td>\n",
       "    </tr>\n",
       "    <tr>\n",
       "      <th>...</th>\n",
       "      <td>...</td>\n",
       "      <td>...</td>\n",
       "      <td>...</td>\n",
       "      <td>...</td>\n",
       "      <td>...</td>\n",
       "      <td>...</td>\n",
       "    </tr>\n",
       "    <tr>\n",
       "      <th>99992</th>\n",
       "      <td>10</td>\n",
       "      <td>1</td>\n",
       "      <td>5.339286</td>\n",
       "      <td>24.000000</td>\n",
       "      <td>1.4</td>\n",
       "      <td>9.133928</td>\n",
       "    </tr>\n",
       "    <tr>\n",
       "      <th>99993</th>\n",
       "      <td>23</td>\n",
       "      <td>1</td>\n",
       "      <td>13.333333</td>\n",
       "      <td>21.600000</td>\n",
       "      <td>1.2</td>\n",
       "      <td>8.035461</td>\n",
       "    </tr>\n",
       "    <tr>\n",
       "      <th>99994</th>\n",
       "      <td>11</td>\n",
       "      <td>1</td>\n",
       "      <td>6.042683</td>\n",
       "      <td>14.300000</td>\n",
       "      <td>1.1</td>\n",
       "      <td>8.504878</td>\n",
       "    </tr>\n",
       "    <tr>\n",
       "      <th>99996</th>\n",
       "      <td>12</td>\n",
       "      <td>1</td>\n",
       "      <td>5.898438</td>\n",
       "      <td>15.000000</td>\n",
       "      <td>1.1</td>\n",
       "      <td>7.410937</td>\n",
       "    </tr>\n",
       "    <tr>\n",
       "      <th>99999</th>\n",
       "      <td>34</td>\n",
       "      <td>1</td>\n",
       "      <td>16.565350</td>\n",
       "      <td>24.200001</td>\n",
       "      <td>1.1</td>\n",
       "      <td>7.289969</td>\n",
       "    </tr>\n",
       "  </tbody>\n",
       "</table>\n",
       "<p>146466 rows × 6 columns</p>\n",
       "</div>"
      ],
      "text/plain": [
       "        order_number                    prices               \n",
       "                 max min       mean        max  min      mean\n",
       "user_id                                                      \n",
       "1                 10   1   5.813559  14.000000  1.0  6.367797\n",
       "1000               7   1   3.980583  15.000000  1.2  8.407767\n",
       "10000             72   1  35.973443  24.200001  1.2  8.045421\n",
       "100000             9   1   4.798246  16.200001  1.0  8.119298\n",
       "100001            66   1  35.275523  18.700001  1.0  7.749815\n",
       "...              ...  ..        ...        ...  ...       ...\n",
       "99992             10   1   5.339286  24.000000  1.4  9.133928\n",
       "99993             23   1  13.333333  21.600000  1.2  8.035461\n",
       "99994             11   1   6.042683  14.300000  1.1  8.504878\n",
       "99996             12   1   5.898438  15.000000  1.1  7.410937\n",
       "99999             34   1  16.565350  24.200001  1.1  7.289969\n",
       "\n",
       "[146466 rows x 6 columns]"
      ]
     },
     "execution_count": 19,
     "metadata": {},
     "output_type": "execute_result"
    }
   ],
   "source": [
    "# Aggregation function for customer based on user_id for expenditure\n",
    "merged_df.groupby('user_id').agg({'order_number': ['max', 'min', 'mean'], 'prices': ['max', 'min', 'mean']})"
   ]
  },
  {
   "cell_type": "code",
   "execution_count": 20,
   "id": "4b14306f",
   "metadata": {
    "execution": {
     "iopub.execute_input": "2025-05-14T19:52:47.002278Z",
     "iopub.status.busy": "2025-05-14T19:52:47.001978Z",
     "iopub.status.idle": "2025-05-14T19:52:53.057696Z",
     "shell.execute_reply": "2025-05-14T19:52:53.056873Z"
    },
    "papermill": {
     "duration": 6.068454,
     "end_time": "2025-05-14T19:52:53.059004",
     "exception": false,
     "start_time": "2025-05-14T19:52:46.990550",
     "status": "completed"
    },
    "tags": []
   },
   "outputs": [
    {
     "data": {
      "text/html": [
       "<div>\n",
       "<style scoped>\n",
       "    .dataframe tbody tr th:only-of-type {\n",
       "        vertical-align: middle;\n",
       "    }\n",
       "\n",
       "    .dataframe tbody tr th {\n",
       "        vertical-align: top;\n",
       "    }\n",
       "\n",
       "    .dataframe thead tr th {\n",
       "        text-align: left;\n",
       "    }\n",
       "\n",
       "    .dataframe thead tr:last-of-type th {\n",
       "        text-align: right;\n",
       "    }\n",
       "</style>\n",
       "<table border=\"1\" class=\"dataframe\">\n",
       "  <thead>\n",
       "    <tr>\n",
       "      <th></th>\n",
       "      <th colspan=\"3\" halign=\"left\">order_number</th>\n",
       "      <th colspan=\"3\" halign=\"left\">days_since_previous_order</th>\n",
       "    </tr>\n",
       "    <tr>\n",
       "      <th></th>\n",
       "      <th>max</th>\n",
       "      <th>min</th>\n",
       "      <th>mean</th>\n",
       "      <th>max</th>\n",
       "      <th>min</th>\n",
       "      <th>mean</th>\n",
       "    </tr>\n",
       "    <tr>\n",
       "      <th>user_id</th>\n",
       "      <th></th>\n",
       "      <th></th>\n",
       "      <th></th>\n",
       "      <th></th>\n",
       "      <th></th>\n",
       "      <th></th>\n",
       "    </tr>\n",
       "  </thead>\n",
       "  <tbody>\n",
       "    <tr>\n",
       "      <th>1</th>\n",
       "      <td>10</td>\n",
       "      <td>1</td>\n",
       "      <td>5.813559</td>\n",
       "      <td>30.0</td>\n",
       "      <td>0.0</td>\n",
       "      <td>20.259260</td>\n",
       "    </tr>\n",
       "    <tr>\n",
       "      <th>1000</th>\n",
       "      <td>7</td>\n",
       "      <td>1</td>\n",
       "      <td>3.980583</td>\n",
       "      <td>30.0</td>\n",
       "      <td>5.0</td>\n",
       "      <td>11.647727</td>\n",
       "    </tr>\n",
       "    <tr>\n",
       "      <th>10000</th>\n",
       "      <td>72</td>\n",
       "      <td>1</td>\n",
       "      <td>35.973443</td>\n",
       "      <td>17.0</td>\n",
       "      <td>0.0</td>\n",
       "      <td>4.949580</td>\n",
       "    </tr>\n",
       "    <tr>\n",
       "      <th>100000</th>\n",
       "      <td>9</td>\n",
       "      <td>1</td>\n",
       "      <td>4.798246</td>\n",
       "      <td>30.0</td>\n",
       "      <td>8.0</td>\n",
       "      <td>23.533981</td>\n",
       "    </tr>\n",
       "    <tr>\n",
       "      <th>100001</th>\n",
       "      <td>66</td>\n",
       "      <td>1</td>\n",
       "      <td>35.275523</td>\n",
       "      <td>29.0</td>\n",
       "      <td>0.0</td>\n",
       "      <td>6.332503</td>\n",
       "    </tr>\n",
       "    <tr>\n",
       "      <th>...</th>\n",
       "      <td>...</td>\n",
       "      <td>...</td>\n",
       "      <td>...</td>\n",
       "      <td>...</td>\n",
       "      <td>...</td>\n",
       "      <td>...</td>\n",
       "    </tr>\n",
       "    <tr>\n",
       "      <th>99992</th>\n",
       "      <td>10</td>\n",
       "      <td>1</td>\n",
       "      <td>5.339286</td>\n",
       "      <td>30.0</td>\n",
       "      <td>6.0</td>\n",
       "      <td>26.442308</td>\n",
       "    </tr>\n",
       "    <tr>\n",
       "      <th>99993</th>\n",
       "      <td>23</td>\n",
       "      <td>1</td>\n",
       "      <td>13.333333</td>\n",
       "      <td>14.0</td>\n",
       "      <td>2.0</td>\n",
       "      <td>5.432836</td>\n",
       "    </tr>\n",
       "    <tr>\n",
       "      <th>99994</th>\n",
       "      <td>11</td>\n",
       "      <td>1</td>\n",
       "      <td>6.042683</td>\n",
       "      <td>30.0</td>\n",
       "      <td>5.0</td>\n",
       "      <td>19.144737</td>\n",
       "    </tr>\n",
       "    <tr>\n",
       "      <th>99996</th>\n",
       "      <td>12</td>\n",
       "      <td>1</td>\n",
       "      <td>5.898438</td>\n",
       "      <td>30.0</td>\n",
       "      <td>15.0</td>\n",
       "      <td>21.672413</td>\n",
       "    </tr>\n",
       "    <tr>\n",
       "      <th>99999</th>\n",
       "      <td>34</td>\n",
       "      <td>1</td>\n",
       "      <td>16.565350</td>\n",
       "      <td>24.0</td>\n",
       "      <td>1.0</td>\n",
       "      <td>7.638365</td>\n",
       "    </tr>\n",
       "  </tbody>\n",
       "</table>\n",
       "<p>146466 rows × 6 columns</p>\n",
       "</div>"
      ],
      "text/plain": [
       "        order_number                days_since_previous_order                 \n",
       "                 max min       mean                       max   min       mean\n",
       "user_id                                                                       \n",
       "1                 10   1   5.813559                      30.0   0.0  20.259260\n",
       "1000               7   1   3.980583                      30.0   5.0  11.647727\n",
       "10000             72   1  35.973443                      17.0   0.0   4.949580\n",
       "100000             9   1   4.798246                      30.0   8.0  23.533981\n",
       "100001            66   1  35.275523                      29.0   0.0   6.332503\n",
       "...              ...  ..        ...                       ...   ...        ...\n",
       "99992             10   1   5.339286                      30.0   6.0  26.442308\n",
       "99993             23   1  13.333333                      14.0   2.0   5.432836\n",
       "99994             11   1   6.042683                      30.0   5.0  19.144737\n",
       "99996             12   1   5.898438                      30.0  15.0  21.672413\n",
       "99999             34   1  16.565350                      24.0   1.0   7.638365\n",
       "\n",
       "[146466 rows x 6 columns]"
      ]
     },
     "execution_count": 20,
     "metadata": {},
     "output_type": "execute_result"
    }
   ],
   "source": [
    "## Aggregation function for customer based on user_id for frequency\n",
    "merged_df.groupby('user_id').agg({'order_number': ['max', 'min', 'mean'], 'days_since_previous_order': ['max', 'min', 'mean']})"
   ]
  },
  {
   "cell_type": "markdown",
   "id": "13882ebd",
   "metadata": {
    "papermill": {
     "duration": 0.010467,
     "end_time": "2025-05-14T19:52:53.080747",
     "exception": false,
     "start_time": "2025-05-14T19:52:53.070280",
     "status": "completed"
    },
    "tags": []
   },
   "source": [
    "8.Compare your customer profiles with regions and departments. Can you identify a link between them? Customers may demonstrate different behaviors across regions, which could make this information important."
   ]
  },
  {
   "cell_type": "code",
   "execution_count": 21,
   "id": "90e5a2cf",
   "metadata": {
    "execution": {
     "iopub.execute_input": "2025-05-14T19:52:53.103552Z",
     "iopub.status.busy": "2025-05-14T19:52:53.103253Z",
     "iopub.status.idle": "2025-05-14T19:53:01.976817Z",
     "shell.execute_reply": "2025-05-14T19:53:01.975835Z"
    },
    "papermill": {
     "duration": 8.887146,
     "end_time": "2025-05-14T19:53:01.978662",
     "exception": false,
     "start_time": "2025-05-14T19:52:53.091516",
     "status": "completed"
    },
    "tags": []
   },
   "outputs": [],
   "source": [
    "Cross_RegionDepartment=pd.crosstab(merged_df['region'],merged_df['department'] ,dropna=False)"
   ]
  },
  {
   "cell_type": "code",
   "execution_count": 22,
   "id": "8b50413a",
   "metadata": {
    "execution": {
     "iopub.execute_input": "2025-05-14T19:53:02.002348Z",
     "iopub.status.busy": "2025-05-14T19:53:02.002030Z",
     "iopub.status.idle": "2025-05-14T19:53:02.015932Z",
     "shell.execute_reply": "2025-05-14T19:53:02.015065Z"
    },
    "papermill": {
     "duration": 0.027139,
     "end_time": "2025-05-14T19:53:02.017373",
     "exception": false,
     "start_time": "2025-05-14T19:53:01.990234",
     "status": "completed"
    },
    "tags": []
   },
   "outputs": [
    {
     "data": {
      "text/html": [
       "<div>\n",
       "<style scoped>\n",
       "    .dataframe tbody tr th:only-of-type {\n",
       "        vertical-align: middle;\n",
       "    }\n",
       "\n",
       "    .dataframe tbody tr th {\n",
       "        vertical-align: top;\n",
       "    }\n",
       "\n",
       "    .dataframe thead th {\n",
       "        text-align: right;\n",
       "    }\n",
       "</style>\n",
       "<table border=\"1\" class=\"dataframe\">\n",
       "  <thead>\n",
       "    <tr style=\"text-align: right;\">\n",
       "      <th>department</th>\n",
       "      <th>alcohol</th>\n",
       "      <th>babies</th>\n",
       "      <th>bakery</th>\n",
       "      <th>beverages</th>\n",
       "      <th>breakfast</th>\n",
       "      <th>bulk</th>\n",
       "      <th>canned goods</th>\n",
       "      <th>dairy eggs</th>\n",
       "      <th>deli</th>\n",
       "      <th>dry goods pasta</th>\n",
       "      <th>...</th>\n",
       "      <th>household</th>\n",
       "      <th>international</th>\n",
       "      <th>meat seafood</th>\n",
       "      <th>missing</th>\n",
       "      <th>other</th>\n",
       "      <th>pantry</th>\n",
       "      <th>personal care</th>\n",
       "      <th>pets</th>\n",
       "      <th>produce</th>\n",
       "      <th>snacks</th>\n",
       "    </tr>\n",
       "    <tr>\n",
       "      <th>region</th>\n",
       "      <th></th>\n",
       "      <th></th>\n",
       "      <th></th>\n",
       "      <th></th>\n",
       "      <th></th>\n",
       "      <th></th>\n",
       "      <th></th>\n",
       "      <th></th>\n",
       "      <th></th>\n",
       "      <th></th>\n",
       "      <th></th>\n",
       "      <th></th>\n",
       "      <th></th>\n",
       "      <th></th>\n",
       "      <th></th>\n",
       "      <th></th>\n",
       "      <th></th>\n",
       "      <th></th>\n",
       "      <th></th>\n",
       "      <th></th>\n",
       "      <th></th>\n",
       "    </tr>\n",
       "  </thead>\n",
       "  <tbody>\n",
       "    <tr>\n",
       "      <th>Midwest</th>\n",
       "      <td>32883</td>\n",
       "      <td>94027</td>\n",
       "      <td>255082</td>\n",
       "      <td>583228</td>\n",
       "      <td>151846</td>\n",
       "      <td>7806</td>\n",
       "      <td>230173</td>\n",
       "      <td>1182974</td>\n",
       "      <td>228200</td>\n",
       "      <td>187653</td>\n",
       "      <td>...</td>\n",
       "      <td>161733</td>\n",
       "      <td>58854</td>\n",
       "      <td>153688</td>\n",
       "      <td>15056</td>\n",
       "      <td>7737</td>\n",
       "      <td>408085</td>\n",
       "      <td>97357</td>\n",
       "      <td>20748</td>\n",
       "      <td>2080206</td>\n",
       "      <td>629156</td>\n",
       "    </tr>\n",
       "    <tr>\n",
       "      <th>Northeast</th>\n",
       "      <td>24114</td>\n",
       "      <td>71370</td>\n",
       "      <td>194076</td>\n",
       "      <td>451674</td>\n",
       "      <td>114701</td>\n",
       "      <td>5482</td>\n",
       "      <td>171517</td>\n",
       "      <td>892624</td>\n",
       "      <td>173837</td>\n",
       "      <td>139489</td>\n",
       "      <td>...</td>\n",
       "      <td>120839</td>\n",
       "      <td>43342</td>\n",
       "      <td>115204</td>\n",
       "      <td>11104</td>\n",
       "      <td>6060</td>\n",
       "      <td>303892</td>\n",
       "      <td>72593</td>\n",
       "      <td>17242</td>\n",
       "      <td>1554985</td>\n",
       "      <td>481100</td>\n",
       "    </tr>\n",
       "    <tr>\n",
       "      <th>South</th>\n",
       "      <td>47069</td>\n",
       "      <td>136961</td>\n",
       "      <td>362204</td>\n",
       "      <td>837788</td>\n",
       "      <td>217548</td>\n",
       "      <td>10953</td>\n",
       "      <td>327746</td>\n",
       "      <td>1682429</td>\n",
       "      <td>325082</td>\n",
       "      <td>264766</td>\n",
       "      <td>...</td>\n",
       "      <td>222964</td>\n",
       "      <td>82329</td>\n",
       "      <td>217724</td>\n",
       "      <td>21024</td>\n",
       "      <td>11273</td>\n",
       "      <td>575074</td>\n",
       "      <td>138415</td>\n",
       "      <td>28893</td>\n",
       "      <td>2955891</td>\n",
       "      <td>894880</td>\n",
       "    </tr>\n",
       "    <tr>\n",
       "      <th>West</th>\n",
       "      <td>35507</td>\n",
       "      <td>100708</td>\n",
       "      <td>281126</td>\n",
       "      <td>634551</td>\n",
       "      <td>169324</td>\n",
       "      <td>8600</td>\n",
       "      <td>252605</td>\n",
       "      <td>1295413</td>\n",
       "      <td>250931</td>\n",
       "      <td>205775</td>\n",
       "      <td>...</td>\n",
       "      <td>172759</td>\n",
       "      <td>64197</td>\n",
       "      <td>169113</td>\n",
       "      <td>15357</td>\n",
       "      <td>8345</td>\n",
       "      <td>445063</td>\n",
       "      <td>103442</td>\n",
       "      <td>23456</td>\n",
       "      <td>2268862</td>\n",
       "      <td>694215</td>\n",
       "    </tr>\n",
       "  </tbody>\n",
       "</table>\n",
       "<p>4 rows × 21 columns</p>\n",
       "</div>"
      ],
      "text/plain": [
       "department  alcohol  babies  bakery  beverages  breakfast   bulk  \\\n",
       "region                                                             \n",
       "Midwest       32883   94027  255082     583228     151846   7806   \n",
       "Northeast     24114   71370  194076     451674     114701   5482   \n",
       "South         47069  136961  362204     837788     217548  10953   \n",
       "West          35507  100708  281126     634551     169324   8600   \n",
       "\n",
       "department  canned goods  dairy eggs    deli  dry goods pasta  ...  household  \\\n",
       "region                                                         ...              \n",
       "Midwest           230173     1182974  228200           187653  ...     161733   \n",
       "Northeast         171517      892624  173837           139489  ...     120839   \n",
       "South             327746     1682429  325082           264766  ...     222964   \n",
       "West              252605     1295413  250931           205775  ...     172759   \n",
       "\n",
       "department  international  meat seafood  missing  other  pantry  \\\n",
       "region                                                            \n",
       "Midwest             58854        153688    15056   7737  408085   \n",
       "Northeast           43342        115204    11104   6060  303892   \n",
       "South               82329        217724    21024  11273  575074   \n",
       "West                64197        169113    15357   8345  445063   \n",
       "\n",
       "department  personal care   pets  produce  snacks  \n",
       "region                                             \n",
       "Midwest             97357  20748  2080206  629156  \n",
       "Northeast           72593  17242  1554985  481100  \n",
       "South              138415  28893  2955891  894880  \n",
       "West               103442  23456  2268862  694215  \n",
       "\n",
       "[4 rows x 21 columns]"
      ]
     },
     "execution_count": 22,
     "metadata": {},
     "output_type": "execute_result"
    }
   ],
   "source": [
    "Cross_RegionDepartment"
   ]
  },
  {
   "cell_type": "code",
   "execution_count": 23,
   "id": "14fec293",
   "metadata": {
    "execution": {
     "iopub.execute_input": "2025-05-14T19:53:02.041840Z",
     "iopub.status.busy": "2025-05-14T19:53:02.041505Z",
     "iopub.status.idle": "2025-05-14T19:53:02.611113Z",
     "shell.execute_reply": "2025-05-14T19:53:02.610192Z"
    },
    "papermill": {
     "duration": 0.583689,
     "end_time": "2025-05-14T19:53:02.612652",
     "exception": false,
     "start_time": "2025-05-14T19:53:02.028963",
     "status": "completed"
    },
    "tags": []
   },
   "outputs": [
    {
     "data": {
      "text/plain": [
       "Text(0, 0.5, 'Region')"
      ]
     },
     "execution_count": 23,
     "metadata": {},
     "output_type": "execute_result"
    },
    {
     "data": {
      "image/png": "[encoded data removed]",
      "text/plain": [
       "<Figure size 1200x800 with 1 Axes>"
      ]
     },
     "metadata": {},
     "output_type": "display_data"
    }
   ],
   "source": [
    "# Visualize using a horizontal BarChart\n",
    "BarChart_RegionDepartment = Cross_RegionDepartment.plot(kind = 'barh', figsize=(12,8))\n",
    "plt.title('Department Sales Regionwise')\n",
    "plt.xlabel('Products count')\n",
    "plt.ylabel('Region')\n"
   ]
  },
  {
   "cell_type": "code",
   "execution_count": 24,
   "id": "8c08f197",
   "metadata": {
    "execution": {
     "iopub.execute_input": "2025-05-14T19:53:02.639187Z",
     "iopub.status.busy": "2025-05-14T19:53:02.638513Z",
     "iopub.status.idle": "2025-05-14T19:53:02.813808Z",
     "shell.execute_reply": "2025-05-14T19:53:02.812843Z"
    },
    "papermill": {
     "duration": 0.190249,
     "end_time": "2025-05-14T19:53:02.815542",
     "exception": false,
     "start_time": "2025-05-14T19:53:02.625293",
     "status": "completed"
    },
    "tags": []
   },
   "outputs": [],
   "source": [
    "BarChart_RegionDepartment.figure.savefig('BarChart_RegionDepartment.png')"
   ]
  },
  {
   "cell_type": "code",
   "execution_count": 25,
   "id": "ec9513d3",
   "metadata": {
    "execution": {
     "iopub.execute_input": "2025-05-14T19:53:02.841382Z",
     "iopub.status.busy": "2025-05-14T19:53:02.841059Z",
     "iopub.status.idle": "2025-05-14T19:53:02.991643Z",
     "shell.execute_reply": "2025-05-14T19:53:02.990727Z"
    },
    "papermill": {
     "duration": 0.165214,
     "end_time": "2025-05-14T19:53:02.993078",
     "exception": false,
     "start_time": "2025-05-14T19:53:02.827864",
     "status": "completed"
    },
    "tags": []
   },
   "outputs": [],
   "source": [
    "# Visualising the orders based on day of week\n",
    "BarChart_dayofweek = merged_df['orders_day_of_week'].value_counts()"
   ]
  },
  {
   "cell_type": "code",
   "execution_count": 26,
   "id": "ceb69503",
   "metadata": {
    "execution": {
     "iopub.execute_input": "2025-05-14T19:53:03.018985Z",
     "iopub.status.busy": "2025-05-14T19:53:03.018653Z",
     "iopub.status.idle": "2025-05-14T19:53:03.024948Z",
     "shell.execute_reply": "2025-05-14T19:53:03.024121Z"
    },
    "papermill": {
     "duration": 0.020914,
     "end_time": "2025-05-14T19:53:03.026441",
     "exception": false,
     "start_time": "2025-05-14T19:53:03.005527",
     "status": "completed"
    },
    "tags": []
   },
   "outputs": [
    {
     "data": {
      "text/plain": [
       "orders_day_of_week\n",
       "0    5744325\n",
       "1    5278055\n",
       "6    4175041\n",
       "5    3937100\n",
       "2    3921025\n",
       "3    3578050\n",
       "4    3537828\n",
       "Name: count, dtype: int64"
      ]
     },
     "execution_count": 26,
     "metadata": {},
     "output_type": "execute_result"
    }
   ],
   "source": [
    "#Checking orders on days of week\n",
    "BarChart_dayofweek"
   ]
  },
  {
   "cell_type": "code",
   "execution_count": 27,
   "id": "e1f06ac3",
   "metadata": {
    "execution": {
     "iopub.execute_input": "2025-05-14T19:53:03.052770Z",
     "iopub.status.busy": "2025-05-14T19:53:03.052461Z",
     "iopub.status.idle": "2025-05-14T19:53:03.390215Z",
     "shell.execute_reply": "2025-05-14T19:53:03.389239Z"
    },
    "papermill": {
     "duration": 0.35288,
     "end_time": "2025-05-14T19:53:03.391737",
     "exception": false,
     "start_time": "2025-05-14T19:53:03.038857",
     "status": "completed"
    },
    "tags": []
   },
   "outputs": [
    {
     "data": {
      "text/plain": [
       "Text(0.5, 0, '')"
      ]
     },
     "execution_count": 27,
     "metadata": {},
     "output_type": "execute_result"
    },
    {
     "data": {
      "image/png": "[encoded data removed]",
      "text/plain": [
       "<Figure size 640x480 with 1 Axes>"
      ]
     },
     "metadata": {},
     "output_type": "display_data"
    }
   ],
   "source": [
    "# Creating barchart for orders based on day of week\n",
    "BarChart_dayofweek=  merged_df['orders_day_of_week'].value_counts().sort_index().plot.bar(color = 'lightblue')\n",
    "OrdersBarChart_dayofweek = BarChart_dayofweek.set_title('Orders based on Day of Week')\n",
    "BarChart_dayofweek.set_xticklabels([ 'Saturday', 'Sunday', 'Monday', 'Tuesday', 'Wednesday', 'Thursday', 'Friday'], rotation=0)\n",
    "BarChart_dayofweek.set_xlabel(\"\")"
   ]
  },
  {
   "cell_type": "code",
   "execution_count": 28,
   "id": "a6e3b3e0",
   "metadata": {
    "execution": {
     "iopub.execute_input": "2025-05-14T19:53:03.419600Z",
     "iopub.status.busy": "2025-05-14T19:53:03.419321Z",
     "iopub.status.idle": "2025-05-14T19:53:03.475076Z",
     "shell.execute_reply": "2025-05-14T19:53:03.474158Z"
    },
    "papermill": {
     "duration": 0.071172,
     "end_time": "2025-05-14T19:53:03.476740",
     "exception": false,
     "start_time": "2025-05-14T19:53:03.405568",
     "status": "completed"
    },
    "tags": []
   },
   "outputs": [],
   "source": [
    "# Export the BarChart\n",
    "OrdersBarChart_dayofweek.figure.savefig('OrdersBarChart_dayofweek.png')"
   ]
  },
  {
   "cell_type": "code",
   "execution_count": 29,
   "id": "b3a37f3d",
   "metadata": {
    "execution": {
     "iopub.execute_input": "2025-05-14T19:53:03.503601Z",
     "iopub.status.busy": "2025-05-14T19:53:03.503278Z",
     "iopub.status.idle": "2025-05-14T19:53:05.396400Z",
     "shell.execute_reply": "2025-05-14T19:53:05.395421Z"
    },
    "papermill": {
     "duration": 1.90813,
     "end_time": "2025-05-14T19:53:05.397752",
     "exception": false,
     "start_time": "2025-05-14T19:53:03.489622",
     "status": "completed"
    },
    "tags": []
   },
   "outputs": [
    {
     "data": {
      "image/png": "[encoded data removed]",
      "text/plain": [
       "<Figure size 640x480 with 1 Axes>"
      ]
     },
     "metadata": {},
     "output_type": "display_data"
    }
   ],
   "source": [
    "# Visualising the time of order per day\n",
    "Timeofday_Histogram=merged_df['order_hour_of_day'].plot.hist(bins=24,color='lightblue')"
   ]
  },
  {
   "cell_type": "code",
   "execution_count": 30,
   "id": "4cb4ec21",
   "metadata": {
    "execution": {
     "iopub.execute_input": "2025-05-14T19:53:05.425666Z",
     "iopub.status.busy": "2025-05-14T19:53:05.425353Z",
     "iopub.status.idle": "2025-05-14T19:53:05.476438Z",
     "shell.execute_reply": "2025-05-14T19:53:05.475482Z"
    },
    "papermill": {
     "duration": 0.06686,
     "end_time": "2025-05-14T19:53:05.478102",
     "exception": false,
     "start_time": "2025-05-14T19:53:05.411242",
     "status": "completed"
    },
    "tags": []
   },
   "outputs": [],
   "source": [
    "Timeofday_Histogram.figure.savefig('Histogram_Timeofday.png')"
   ]
  },
  {
   "cell_type": "code",
   "execution_count": 31,
   "id": "febf33ec",
   "metadata": {
    "execution": {
     "iopub.execute_input": "2025-05-14T19:53:05.506270Z",
     "iopub.status.busy": "2025-05-14T19:53:05.505955Z",
     "iopub.status.idle": "2025-05-14T19:53:14.565977Z",
     "shell.execute_reply": "2025-05-14T19:53:14.565171Z"
    },
    "papermill": {
     "duration": 9.075884,
     "end_time": "2025-05-14T19:53:14.567568",
     "exception": false,
     "start_time": "2025-05-14T19:53:05.491684",
     "status": "completed"
    },
    "tags": []
   },
   "outputs": [],
   "source": [
    "# crosstab function to cross and match loyalty to income based on agegroup\n",
    "Cross_LoyaltyIncome=pd.crosstab(merged_df['loyalty_flag'],merged_df['income_group'],dropna=False)"
   ]
  },
  {
   "cell_type": "code",
   "execution_count": 32,
   "id": "2c1578db",
   "metadata": {
    "execution": {
     "iopub.execute_input": "2025-05-14T19:53:14.595830Z",
     "iopub.status.busy": "2025-05-14T19:53:14.595244Z",
     "iopub.status.idle": "2025-05-14T19:53:14.604040Z",
     "shell.execute_reply": "2025-05-14T19:53:14.603063Z"
    },
    "papermill": {
     "duration": 0.024773,
     "end_time": "2025-05-14T19:53:14.605505",
     "exception": false,
     "start_time": "2025-05-14T19:53:14.580732",
     "status": "completed"
    },
    "tags": []
   },
   "outputs": [
    {
     "data": {
      "text/html": [
       "<div>\n",
       "<style scoped>\n",
       "    .dataframe tbody tr th:only-of-type {\n",
       "        vertical-align: middle;\n",
       "    }\n",
       "\n",
       "    .dataframe tbody tr th {\n",
       "        vertical-align: top;\n",
       "    }\n",
       "\n",
       "    .dataframe thead th {\n",
       "        text-align: right;\n",
       "    }\n",
       "</style>\n",
       "<table border=\"1\" class=\"dataframe\">\n",
       "  <thead>\n",
       "    <tr style=\"text-align: right;\">\n",
       "      <th>income_group</th>\n",
       "      <th>HIGH</th>\n",
       "      <th>LOW</th>\n",
       "      <th>MEDIUM</th>\n",
       "    </tr>\n",
       "    <tr>\n",
       "      <th>loyalty_flag</th>\n",
       "      <th></th>\n",
       "      <th></th>\n",
       "      <th></th>\n",
       "    </tr>\n",
       "  </thead>\n",
       "  <tbody>\n",
       "    <tr>\n",
       "      <th>Loyal customer</th>\n",
       "      <td>1310941</td>\n",
       "      <td>1032934</td>\n",
       "      <td>7940218</td>\n",
       "    </tr>\n",
       "    <tr>\n",
       "      <th>New customer</th>\n",
       "      <td>482621</td>\n",
       "      <td>513460</td>\n",
       "      <td>3014474</td>\n",
       "    </tr>\n",
       "    <tr>\n",
       "      <th>Regular customer</th>\n",
       "      <td>2008321</td>\n",
       "      <td>1702440</td>\n",
       "      <td>12166015</td>\n",
       "    </tr>\n",
       "  </tbody>\n",
       "</table>\n",
       "</div>"
      ],
      "text/plain": [
       "income_group         HIGH      LOW    MEDIUM\n",
       "loyalty_flag                                \n",
       "Loyal customer    1310941  1032934   7940218\n",
       "New customer       482621   513460   3014474\n",
       "Regular customer  2008321  1702440  12166015"
      ]
     },
     "execution_count": 32,
     "metadata": {},
     "output_type": "execute_result"
    }
   ],
   "source": [
    "Cross_LoyaltyIncome"
   ]
  },
  {
   "cell_type": "code",
   "execution_count": 33,
   "id": "35364b87",
   "metadata": {
    "execution": {
     "iopub.execute_input": "2025-05-14T19:53:14.633297Z",
     "iopub.status.busy": "2025-05-14T19:53:14.633008Z",
     "iopub.status.idle": "2025-05-14T19:53:14.863392Z",
     "shell.execute_reply": "2025-05-14T19:53:14.862545Z"
    },
    "papermill": {
     "duration": 0.245967,
     "end_time": "2025-05-14T19:53:14.864780",
     "exception": false,
     "start_time": "2025-05-14T19:53:14.618813",
     "status": "completed"
    },
    "tags": []
   },
   "outputs": [
    {
     "data": {
      "text/plain": [
       "(array([0, 1, 2]),\n",
       " [Text(0, 0, 'Loyal customer'),\n",
       "  Text(1, 0, 'New customer'),\n",
       "  Text(2, 0, 'Regular customer')])"
      ]
     },
     "execution_count": 33,
     "metadata": {},
     "output_type": "execute_result"
    },
    {
     "data": {
      "image/png": "[encoded data removed]",
      "text/plain": [
       "<Figure size 640x480 with 1 Axes>"
      ]
     },
     "metadata": {},
     "output_type": "display_data"
    }
   ],
   "source": [
    "# Visualising loyalty of customer based on their income \n",
    "BarChart_LoyaltyIncome = Cross_LoyaltyIncome.plot.bar()\n",
    "plt.title('Loyalty by Income Group')\n",
    "plt.xlabel('')\n",
    "plt.ylabel('count')\n",
    "plt.xticks(rotation=0)"
   ]
  },
  {
   "cell_type": "code",
   "execution_count": 34,
   "id": "53e2b701",
   "metadata": {
    "execution": {
     "iopub.execute_input": "2025-05-14T19:53:14.893336Z",
     "iopub.status.busy": "2025-05-14T19:53:14.893030Z",
     "iopub.status.idle": "2025-05-14T19:53:14.958645Z",
     "shell.execute_reply": "2025-05-14T19:53:14.957857Z"
    },
    "papermill": {
     "duration": 0.081672,
     "end_time": "2025-05-14T19:53:14.960209",
     "exception": false,
     "start_time": "2025-05-14T19:53:14.878537",
     "status": "completed"
    },
    "tags": []
   },
   "outputs": [],
   "source": [
    "#Exporting barchart for loyalty to income group\n",
    "BarChart_LoyaltyIncome.figure.savefig('Loyalty_Income_GroupBarchart.png')"
   ]
  },
  {
   "cell_type": "code",
   "execution_count": 35,
   "id": "d319c10f",
   "metadata": {
    "execution": {
     "iopub.execute_input": "2025-05-14T19:53:14.989699Z",
     "iopub.status.busy": "2025-05-14T19:53:14.988851Z",
     "iopub.status.idle": "2025-05-14T19:53:24.140552Z",
     "shell.execute_reply": "2025-05-14T19:53:24.139480Z"
    },
    "papermill": {
     "duration": 9.168348,
     "end_time": "2025-05-14T19:53:24.142510",
     "exception": false,
     "start_time": "2025-05-14T19:53:14.974162",
     "status": "completed"
    },
    "tags": []
   },
   "outputs": [],
   "source": [
    "#cross function to loyalty flag and spending flag to check for \n",
    "Cross_LoyaltySpending=pd.crosstab(merged_df['loyalty_flag'],merged_df['spender_flag'],dropna=False)"
   ]
  },
  {
   "cell_type": "code",
   "execution_count": 36,
   "id": "4b07f5dd",
   "metadata": {
    "execution": {
     "iopub.execute_input": "2025-05-14T19:53:24.171020Z",
     "iopub.status.busy": "2025-05-14T19:53:24.170698Z",
     "iopub.status.idle": "2025-05-14T19:53:24.178639Z",
     "shell.execute_reply": "2025-05-14T19:53:24.177927Z"
    },
    "papermill": {
     "duration": 0.023682,
     "end_time": "2025-05-14T19:53:24.180058",
     "exception": false,
     "start_time": "2025-05-14T19:53:24.156376",
     "status": "completed"
    },
    "tags": []
   },
   "outputs": [
    {
     "data": {
      "text/html": [
       "<div>\n",
       "<style scoped>\n",
       "    .dataframe tbody tr th:only-of-type {\n",
       "        vertical-align: middle;\n",
       "    }\n",
       "\n",
       "    .dataframe tbody tr th {\n",
       "        vertical-align: top;\n",
       "    }\n",
       "\n",
       "    .dataframe thead th {\n",
       "        text-align: right;\n",
       "    }\n",
       "</style>\n",
       "<table border=\"1\" class=\"dataframe\">\n",
       "  <thead>\n",
       "    <tr style=\"text-align: right;\">\n",
       "      <th>spender_flag</th>\n",
       "      <th>High_spender</th>\n",
       "      <th>Low_spender</th>\n",
       "    </tr>\n",
       "    <tr>\n",
       "      <th>loyalty_flag</th>\n",
       "      <th></th>\n",
       "      <th></th>\n",
       "    </tr>\n",
       "  </thead>\n",
       "  <tbody>\n",
       "    <tr>\n",
       "      <th>Loyal customer</th>\n",
       "      <td>216600</td>\n",
       "      <td>10067493</td>\n",
       "    </tr>\n",
       "    <tr>\n",
       "      <th>New customer</th>\n",
       "      <td>67914</td>\n",
       "      <td>3942641</td>\n",
       "    </tr>\n",
       "    <tr>\n",
       "      <th>Regular customer</th>\n",
       "      <td>302814</td>\n",
       "      <td>15573962</td>\n",
       "    </tr>\n",
       "  </tbody>\n",
       "</table>\n",
       "</div>"
      ],
      "text/plain": [
       "spender_flag      High_spender  Low_spender\n",
       "loyalty_flag                               \n",
       "Loyal customer          216600     10067493\n",
       "New customer             67914      3942641\n",
       "Regular customer        302814     15573962"
      ]
     },
     "execution_count": 36,
     "metadata": {},
     "output_type": "execute_result"
    }
   ],
   "source": [
    "Cross_LoyaltySpending"
   ]
  },
  {
   "cell_type": "code",
   "execution_count": 37,
   "id": "14aa39c3",
   "metadata": {
    "execution": {
     "iopub.execute_input": "2025-05-14T19:53:24.209535Z",
     "iopub.status.busy": "2025-05-14T19:53:24.208998Z",
     "iopub.status.idle": "2025-05-14T19:53:24.437695Z",
     "shell.execute_reply": "2025-05-14T19:53:24.436793Z"
    },
    "papermill": {
     "duration": 0.245248,
     "end_time": "2025-05-14T19:53:24.439287",
     "exception": false,
     "start_time": "2025-05-14T19:53:24.194039",
     "status": "completed"
    },
    "tags": []
   },
   "outputs": [
    {
     "data": {
      "text/plain": [
       "(array([0, 1, 2]),\n",
       " [Text(0, 0, 'Loyal customer'),\n",
       "  Text(1, 0, 'New customer'),\n",
       "  Text(2, 0, 'Regular customer')])"
      ]
     },
     "execution_count": 37,
     "metadata": {},
     "output_type": "execute_result"
    },
    {
     "data": {
      "image/png": "[encoded data removed]",
      "text/plain": [
       "<Figure size 640x480 with 1 Axes>"
      ]
     },
     "metadata": {},
     "output_type": "display_data"
    }
   ],
   "source": [
    "# Visualising loyalty of customer based on their spending\n",
    "BarChart_LoyaltySpending = Cross_LoyaltySpending.plot.bar()\n",
    "plt.title('Loyalty by Customer Category')\n",
    "plt.xlabel('')\n",
    "plt.ylabel('count')\n",
    "plt.xticks(rotation=0)"
   ]
  },
  {
   "cell_type": "code",
   "execution_count": 38,
   "id": "f2107d2c",
   "metadata": {
    "execution": {
     "iopub.execute_input": "2025-05-14T19:53:24.470999Z",
     "iopub.status.busy": "2025-05-14T19:53:24.470672Z",
     "iopub.status.idle": "2025-05-14T19:53:24.538848Z",
     "shell.execute_reply": "2025-05-14T19:53:24.538036Z"
    },
    "papermill": {
     "duration": 0.085504,
     "end_time": "2025-05-14T19:53:24.540492",
     "exception": false,
     "start_time": "2025-05-14T19:53:24.454988",
     "status": "completed"
    },
    "tags": []
   },
   "outputs": [],
   "source": [
    "BarChart_LoyaltySpending.figure.savefig('BarChart for LoyaltySpending.png')"
   ]
  },
  {
   "cell_type": "code",
   "execution_count": 39,
   "id": "820cea3b",
   "metadata": {
    "execution": {
     "iopub.execute_input": "2025-05-14T19:53:24.571864Z",
     "iopub.status.busy": "2025-05-14T19:53:24.571533Z",
     "iopub.status.idle": "2025-05-14T19:53:33.782922Z",
     "shell.execute_reply": "2025-05-14T19:53:33.782083Z"
    },
    "papermill": {
     "duration": 9.229418,
     "end_time": "2025-05-14T19:53:33.784553",
     "exception": false,
     "start_time": "2025-05-14T19:53:24.555135",
     "status": "completed"
    },
    "tags": []
   },
   "outputs": [],
   "source": [
    "Cross_LoyaltyFamilyStatus=pd.crosstab(merged_df['loyalty_flag'],merged_df['fam_status'],dropna=False)"
   ]
  },
  {
   "cell_type": "code",
   "execution_count": 40,
   "id": "30111110",
   "metadata": {
    "execution": {
     "iopub.execute_input": "2025-05-14T19:53:33.815678Z",
     "iopub.status.busy": "2025-05-14T19:53:33.815325Z",
     "iopub.status.idle": "2025-05-14T19:53:33.824187Z",
     "shell.execute_reply": "2025-05-14T19:53:33.823189Z"
    },
    "papermill": {
     "duration": 0.02636,
     "end_time": "2025-05-14T19:53:33.825726",
     "exception": false,
     "start_time": "2025-05-14T19:53:33.799366",
     "status": "completed"
    },
    "tags": []
   },
   "outputs": [
    {
     "data": {
      "text/html": [
       "<div>\n",
       "<style scoped>\n",
       "    .dataframe tbody tr th:only-of-type {\n",
       "        vertical-align: middle;\n",
       "    }\n",
       "\n",
       "    .dataframe tbody tr th {\n",
       "        vertical-align: top;\n",
       "    }\n",
       "\n",
       "    .dataframe thead th {\n",
       "        text-align: right;\n",
       "    }\n",
       "</style>\n",
       "<table border=\"1\" class=\"dataframe\">\n",
       "  <thead>\n",
       "    <tr style=\"text-align: right;\">\n",
       "      <th>fam_status</th>\n",
       "      <th>divorced/widowed</th>\n",
       "      <th>living with parents and siblings</th>\n",
       "      <th>married</th>\n",
       "      <th>single</th>\n",
       "    </tr>\n",
       "    <tr>\n",
       "      <th>loyalty_flag</th>\n",
       "      <th></th>\n",
       "      <th></th>\n",
       "      <th></th>\n",
       "      <th></th>\n",
       "    </tr>\n",
       "  </thead>\n",
       "  <tbody>\n",
       "    <tr>\n",
       "      <th>Loyal customer</th>\n",
       "      <td>882722</td>\n",
       "      <td>492749</td>\n",
       "      <td>7202500</td>\n",
       "      <td>1706122</td>\n",
       "    </tr>\n",
       "    <tr>\n",
       "      <th>New customer</th>\n",
       "      <td>336390</td>\n",
       "      <td>184688</td>\n",
       "      <td>2825070</td>\n",
       "      <td>664407</td>\n",
       "    </tr>\n",
       "    <tr>\n",
       "      <th>Regular customer</th>\n",
       "      <td>1358768</td>\n",
       "      <td>766644</td>\n",
       "      <td>11160560</td>\n",
       "      <td>2590804</td>\n",
       "    </tr>\n",
       "  </tbody>\n",
       "</table>\n",
       "</div>"
      ],
      "text/plain": [
       "fam_status        divorced/widowed  living with parents and siblings  \\\n",
       "loyalty_flag                                                           \n",
       "Loyal customer              882722                            492749   \n",
       "New customer                336390                            184688   \n",
       "Regular customer           1358768                            766644   \n",
       "\n",
       "fam_status         married   single  \n",
       "loyalty_flag                         \n",
       "Loyal customer     7202500  1706122  \n",
       "New customer       2825070   664407  \n",
       "Regular customer  11160560  2590804  "
      ]
     },
     "execution_count": 40,
     "metadata": {},
     "output_type": "execute_result"
    }
   ],
   "source": [
    "Cross_LoyaltyFamilyStatus"
   ]
  },
  {
   "cell_type": "code",
   "execution_count": 41,
   "id": "e12a693c",
   "metadata": {
    "execution": {
     "iopub.execute_input": "2025-05-14T19:53:33.856867Z",
     "iopub.status.busy": "2025-05-14T19:53:33.856552Z",
     "iopub.status.idle": "2025-05-14T19:53:34.105118Z",
     "shell.execute_reply": "2025-05-14T19:53:34.104240Z"
    },
    "papermill": {
     "duration": 0.265741,
     "end_time": "2025-05-14T19:53:34.106629",
     "exception": false,
     "start_time": "2025-05-14T19:53:33.840888",
     "status": "completed"
    },
    "tags": []
   },
   "outputs": [
    {
     "data": {
      "text/plain": [
       "(array([0, 1, 2]),\n",
       " [Text(0, 0, 'Loyal customer'),\n",
       "  Text(1, 0, 'New customer'),\n",
       "  Text(2, 0, 'Regular customer')])"
      ]
     },
     "execution_count": 41,
     "metadata": {},
     "output_type": "execute_result"
    },
    {
     "data": {
      "image/png": "[encoded data removed]",
      "text/plain": [
       "<Figure size 640x480 with 1 Axes>"
      ]
     },
     "metadata": {},
     "output_type": "display_data"
    }
   ],
   "source": [
    "# Visualising loyalty of customer based on their family status\n",
    "BarChart_LoyaltyFamilyStatus = Cross_LoyaltyFamilyStatus.plot.bar()\n",
    "plt.title('Loyalty by Family Status')\n",
    "plt.xlabel('')\n",
    "plt.ylabel('count')\n",
    "plt.xticks(rotation=0)"
   ]
  },
  {
   "cell_type": "code",
   "execution_count": 42,
   "id": "f520f2e6",
   "metadata": {
    "execution": {
     "iopub.execute_input": "2025-05-14T19:53:34.138978Z",
     "iopub.status.busy": "2025-05-14T19:53:34.138631Z",
     "iopub.status.idle": "2025-05-14T19:53:34.211252Z",
     "shell.execute_reply": "2025-05-14T19:53:34.210267Z"
    },
    "papermill": {
     "duration": 0.090808,
     "end_time": "2025-05-14T19:53:34.212990",
     "exception": false,
     "start_time": "2025-05-14T19:53:34.122182",
     "status": "completed"
    },
    "tags": []
   },
   "outputs": [],
   "source": [
    "BarChart_LoyaltyFamilyStatus.figure.savefig('BarChart for Loyalty to family status.png')"
   ]
  },
  {
   "cell_type": "code",
   "execution_count": 43,
   "id": "3ac2ec2c",
   "metadata": {
    "execution": {
     "iopub.execute_input": "2025-05-14T19:53:34.245735Z",
     "iopub.status.busy": "2025-05-14T19:53:34.244806Z",
     "iopub.status.idle": "2025-05-14T19:53:35.234595Z",
     "shell.execute_reply": "2025-05-14T19:53:35.233585Z"
    },
    "papermill": {
     "duration": 1.007941,
     "end_time": "2025-05-14T19:53:35.236450",
     "exception": false,
     "start_time": "2025-05-14T19:53:34.228509",
     "status": "completed"
    },
    "tags": []
   },
   "outputs": [],
   "source": [
    "Family_Status= merged_df['fam_status'].value_counts(dropna=False)"
   ]
  },
  {
   "cell_type": "code",
   "execution_count": 44,
   "id": "d2c951ae",
   "metadata": {
    "execution": {
     "iopub.execute_input": "2025-05-14T19:53:35.269865Z",
     "iopub.status.busy": "2025-05-14T19:53:35.269560Z",
     "iopub.status.idle": "2025-05-14T19:53:35.276573Z",
     "shell.execute_reply": "2025-05-14T19:53:35.275656Z"
    },
    "papermill": {
     "duration": 0.025435,
     "end_time": "2025-05-14T19:53:35.278147",
     "exception": false,
     "start_time": "2025-05-14T19:53:35.252712",
     "status": "completed"
    },
    "tags": []
   },
   "outputs": [
    {
     "data": {
      "text/plain": [
       "fam_status\n",
       "married                             21188130\n",
       "single                               4961333\n",
       "divorced/widowed                     2577880\n",
       "living with parents and siblings     1444081\n",
       "Name: count, dtype: int64"
      ]
     },
     "execution_count": 44,
     "metadata": {},
     "output_type": "execute_result"
    }
   ],
   "source": [
    "Family_Status"
   ]
  },
  {
   "cell_type": "code",
   "execution_count": 45,
   "id": "000b3441",
   "metadata": {
    "execution": {
     "iopub.execute_input": "2025-05-14T19:53:35.313216Z",
     "iopub.status.busy": "2025-05-14T19:53:35.312868Z",
     "iopub.status.idle": "2025-05-14T19:53:35.485114Z",
     "shell.execute_reply": "2025-05-14T19:53:35.483910Z"
    },
    "papermill": {
     "duration": 0.192628,
     "end_time": "2025-05-14T19:53:35.487166",
     "exception": false,
     "start_time": "2025-05-14T19:53:35.294538",
     "status": "completed"
    },
    "tags": []
   },
   "outputs": [
    {
     "data": {
      "image/png": "[encoded data removed]",
      "text/plain": [
       "<Figure size 640x480 with 1 Axes>"
      ]
     },
     "metadata": {},
     "output_type": "display_data"
    }
   ],
   "source": [
    "# Visualize the pie chart\n",
    "PieChart_FamilyStatus = Family_Status.plot.pie(autopct='%1.1f%%', labels= ['married', 'single', 'divorced/widowed', 'living with parents and siblings'], startangle=90, colors=['lightgreen','grey','orange','red'])\n",
    "# Hide the y-label\n",
    "plt.ylabel('')  \n",
    "plt.title('Distribution of Family Status')\n",
    "plt.show()"
   ]
  },
  {
   "cell_type": "code",
   "execution_count": 46,
   "id": "0c020a23",
   "metadata": {
    "execution": {
     "iopub.execute_input": "2025-05-14T19:53:35.523458Z",
     "iopub.status.busy": "2025-05-14T19:53:35.523158Z",
     "iopub.status.idle": "2025-05-14T19:53:35.566862Z",
     "shell.execute_reply": "2025-05-14T19:53:35.565820Z"
    },
    "papermill": {
     "duration": 0.064017,
     "end_time": "2025-05-14T19:53:35.569014",
     "exception": false,
     "start_time": "2025-05-14T19:53:35.504997",
     "status": "completed"
    },
    "tags": []
   },
   "outputs": [],
   "source": [
    "PieChart_FamilyStatus.figure.savefig('Piechart Loyalty to Family Status.png')"
   ]
  },
  {
   "cell_type": "code",
   "execution_count": 47,
   "id": "eacb2f1c",
   "metadata": {
    "execution": {
     "iopub.execute_input": "2025-05-14T19:53:35.605255Z",
     "iopub.status.busy": "2025-05-14T19:53:35.604879Z",
     "iopub.status.idle": "2025-05-14T19:53:44.994781Z",
     "shell.execute_reply": "2025-05-14T19:53:44.993659Z"
    },
    "papermill": {
     "duration": 9.410776,
     "end_time": "2025-05-14T19:53:44.996618",
     "exception": false,
     "start_time": "2025-05-14T19:53:35.585842",
     "status": "completed"
    },
    "tags": []
   },
   "outputs": [],
   "source": [
    "Cross_LoyaltyDependants=pd.crosstab(merged_df['loyalty_flag'],merged_df['dependant_flag'],dropna=False)"
   ]
  },
  {
   "cell_type": "code",
   "execution_count": 48,
   "id": "737d40b6",
   "metadata": {
    "execution": {
     "iopub.execute_input": "2025-05-14T19:53:45.031573Z",
     "iopub.status.busy": "2025-05-14T19:53:45.031233Z",
     "iopub.status.idle": "2025-05-14T19:53:45.039159Z",
     "shell.execute_reply": "2025-05-14T19:53:45.038295Z"
    },
    "papermill": {
     "duration": 0.026895,
     "end_time": "2025-05-14T19:53:45.040609",
     "exception": false,
     "start_time": "2025-05-14T19:53:45.013714",
     "status": "completed"
    },
    "tags": []
   },
   "outputs": [
    {
     "data": {
      "text/html": [
       "<div>\n",
       "<style scoped>\n",
       "    .dataframe tbody tr th:only-of-type {\n",
       "        vertical-align: middle;\n",
       "    }\n",
       "\n",
       "    .dataframe tbody tr th {\n",
       "        vertical-align: top;\n",
       "    }\n",
       "\n",
       "    .dataframe thead th {\n",
       "        text-align: right;\n",
       "    }\n",
       "</style>\n",
       "<table border=\"1\" class=\"dataframe\">\n",
       "  <thead>\n",
       "    <tr style=\"text-align: right;\">\n",
       "      <th>dependant_flag</th>\n",
       "      <th>Has Dependants</th>\n",
       "      <th>No Dependants</th>\n",
       "    </tr>\n",
       "    <tr>\n",
       "      <th>loyalty_flag</th>\n",
       "      <th></th>\n",
       "      <th></th>\n",
       "    </tr>\n",
       "  </thead>\n",
       "  <tbody>\n",
       "    <tr>\n",
       "      <th>Loyal customer</th>\n",
       "      <td>7695249</td>\n",
       "      <td>2588844</td>\n",
       "    </tr>\n",
       "    <tr>\n",
       "      <th>New customer</th>\n",
       "      <td>3009758</td>\n",
       "      <td>1000797</td>\n",
       "    </tr>\n",
       "    <tr>\n",
       "      <th>Regular customer</th>\n",
       "      <td>11927204</td>\n",
       "      <td>3949572</td>\n",
       "    </tr>\n",
       "  </tbody>\n",
       "</table>\n",
       "</div>"
      ],
      "text/plain": [
       "dependant_flag    Has Dependants  No Dependants\n",
       "loyalty_flag                                   \n",
       "Loyal customer           7695249        2588844\n",
       "New customer             3009758        1000797\n",
       "Regular customer        11927204        3949572"
      ]
     },
     "execution_count": 48,
     "metadata": {},
     "output_type": "execute_result"
    }
   ],
   "source": [
    "Cross_LoyaltyDependants"
   ]
  },
  {
   "cell_type": "code",
   "execution_count": 49,
   "id": "9048c2b1",
   "metadata": {
    "execution": {
     "iopub.execute_input": "2025-05-14T19:53:45.075657Z",
     "iopub.status.busy": "2025-05-14T19:53:45.075373Z",
     "iopub.status.idle": "2025-05-14T19:53:45.308292Z",
     "shell.execute_reply": "2025-05-14T19:53:45.307249Z"
    },
    "papermill": {
     "duration": 0.252588,
     "end_time": "2025-05-14T19:53:45.310088",
     "exception": false,
     "start_time": "2025-05-14T19:53:45.057500",
     "status": "completed"
    },
    "tags": []
   },
   "outputs": [
    {
     "data": {
      "text/plain": [
       "(array([0, 1, 2]),\n",
       " [Text(0, 0, 'Loyal customer'),\n",
       "  Text(1, 0, 'New customer'),\n",
       "  Text(2, 0, 'Regular customer')])"
      ]
     },
     "execution_count": 49,
     "metadata": {},
     "output_type": "execute_result"
    },
    {
     "data": {
      "image/png": "[encoded data removed]",
      "text/plain": [
       "<Figure size 640x480 with 1 Axes>"
      ]
     },
     "metadata": {},
     "output_type": "display_data"
    }
   ],
   "source": [
    "# Visualising loyalty of customer based on their Dependants\n",
    "BarChart_LoyaltyDependants = Cross_LoyaltyDependants.plot.bar()\n",
    "plt.title('Loyalty by Dependants')\n",
    "plt.xlabel('')\n",
    "plt.ylabel('count')\n",
    "plt.xticks(rotation=0)"
   ]
  },
  {
   "cell_type": "code",
   "execution_count": 50,
   "id": "89537e3b",
   "metadata": {
    "execution": {
     "iopub.execute_input": "2025-05-14T19:53:45.345843Z",
     "iopub.status.busy": "2025-05-14T19:53:45.345533Z",
     "iopub.status.idle": "2025-05-14T19:53:45.412288Z",
     "shell.execute_reply": "2025-05-14T19:53:45.410683Z"
    },
    "papermill": {
     "duration": 0.086569,
     "end_time": "2025-05-14T19:53:45.414212",
     "exception": false,
     "start_time": "2025-05-14T19:53:45.327643",
     "status": "completed"
    },
    "tags": []
   },
   "outputs": [],
   "source": [
    "BarChart_LoyaltyDependants.figure.savefig('Barchart for Loyalty to Dependants.png')"
   ]
  },
  {
   "cell_type": "code",
   "execution_count": 51,
   "id": "083f1c84",
   "metadata": {
    "execution": {
     "iopub.execute_input": "2025-05-14T19:53:45.452758Z",
     "iopub.status.busy": "2025-05-14T19:53:45.451828Z",
     "iopub.status.idle": "2025-05-14T19:53:46.437762Z",
     "shell.execute_reply": "2025-05-14T19:53:46.436821Z"
    },
    "papermill": {
     "duration": 1.007767,
     "end_time": "2025-05-14T19:53:46.439489",
     "exception": false,
     "start_time": "2025-05-14T19:53:45.431722",
     "status": "completed"
    },
    "tags": []
   },
   "outputs": [],
   "source": [
    "Count_FamilyStatus=merged_df['fam_status'].value_counts(dropna=False)"
   ]
  },
  {
   "cell_type": "code",
   "execution_count": 52,
   "id": "b1f613be",
   "metadata": {
    "execution": {
     "iopub.execute_input": "2025-05-14T19:53:46.477685Z",
     "iopub.status.busy": "2025-05-14T19:53:46.476746Z",
     "iopub.status.idle": "2025-05-14T19:53:46.483934Z",
     "shell.execute_reply": "2025-05-14T19:53:46.482749Z"
    },
    "papermill": {
     "duration": 0.028854,
     "end_time": "2025-05-14T19:53:46.485816",
     "exception": false,
     "start_time": "2025-05-14T19:53:46.456962",
     "status": "completed"
    },
    "tags": []
   },
   "outputs": [
    {
     "data": {
      "text/plain": [
       "fam_status\n",
       "married                             21188130\n",
       "single                               4961333\n",
       "divorced/widowed                     2577880\n",
       "living with parents and siblings     1444081\n",
       "Name: count, dtype: int64"
      ]
     },
     "execution_count": 52,
     "metadata": {},
     "output_type": "execute_result"
    }
   ],
   "source": [
    "Count_FamilyStatus"
   ]
  },
  {
   "cell_type": "code",
   "execution_count": 53,
   "id": "89830460",
   "metadata": {
    "execution": {
     "iopub.execute_input": "2025-05-14T19:53:46.522431Z",
     "iopub.status.busy": "2025-05-14T19:53:46.522114Z",
     "iopub.status.idle": "2025-05-14T19:53:46.702631Z",
     "shell.execute_reply": "2025-05-14T19:53:46.701798Z"
    },
    "papermill": {
     "duration": 0.200493,
     "end_time": "2025-05-14T19:53:46.704269",
     "exception": false,
     "start_time": "2025-05-14T19:53:46.503776",
     "status": "completed"
    },
    "tags": []
   },
   "outputs": [
    {
     "data": {
      "image/png": "[encoded data removed]",
      "text/plain": [
       "<Figure size 640x480 with 1 Axes>"
      ]
     },
     "metadata": {},
     "output_type": "display_data"
    }
   ],
   "source": [
    "# Visualising Family Status\n",
    "FamilyStatus_BarChart = Count_FamilyStatus.plot.bar(color = {'#9B3192','#FFF1C9', '#F7B7A3', '#EA5F89'})  \n",
    "plt.title('Distribution of Family Status')\n",
    "# Hide the y-label\n",
    "plt.xlabel('')\n",
    "plt.ylabel('Count')\n",
    "plt.show()"
   ]
  },
  {
   "cell_type": "code",
   "execution_count": 54,
   "id": "a8f7ab77",
   "metadata": {
    "execution": {
     "iopub.execute_input": "2025-05-14T19:53:46.741328Z",
     "iopub.status.busy": "2025-05-14T19:53:46.741038Z",
     "iopub.status.idle": "2025-05-14T19:53:46.800093Z",
     "shell.execute_reply": "2025-05-14T19:53:46.799066Z"
    },
    "papermill": {
     "duration": 0.079547,
     "end_time": "2025-05-14T19:53:46.801744",
     "exception": false,
     "start_time": "2025-05-14T19:53:46.722197",
     "status": "completed"
    },
    "tags": []
   },
   "outputs": [],
   "source": [
    "# Saving the barchart as png\n",
    "FamilyStatus_BarChart.figure.savefig('Barchart for Distribution of Family Status.png')"
   ]
  },
  {
   "cell_type": "code",
   "execution_count": null,
   "id": "0a2c3e54",
   "metadata": {
    "papermill": {
     "duration": 0.017561,
     "end_time": "2025-05-14T19:53:46.837158",
     "exception": false,
     "start_time": "2025-05-14T19:53:46.819597",
     "status": "completed"
    },
    "tags": []
   },
   "outputs": [],
   "source": []
  }
 ],
 "metadata": {
  "kaggle": {
   "accelerator": "none",
   "dataSources": [
    {
     "datasetId": 7418045,
     "sourceId": 11811019,
     "sourceType": "datasetVersion"
    },
    {
     "datasetId": 7418490,
     "sourceId": 11811619,
     "sourceType": "datasetVersion"
    },
    {
     "datasetId": 7419237,
     "sourceId": 11812599,
     "sourceType": "datasetVersion"
    }
   ],
   "dockerImageVersionId": 31040,
   "isGpuEnabled": false,
   "isInternetEnabled": true,
   "language": "python",
   "sourceType": "notebook"
  },
  "kernelspec": {
   "display_name": "Python 3",
   "language": "python",
   "name": "python3"
  },
  "language_info": {
   "codemirror_mode": {
    "name": "ipython",
    "version": 3
   },
   "file_extension": ".py",
   "mimetype": "text/x-python",
   "name": "python",
   "nbconvert_exporter": "python",
   "pygments_lexer": "ipython3",
   "version": "3.11.11"
  },
  "papermill": {
   "default_parameters": {},
   "duration": 287.916843,
   "end_time": "2025-05-14T19:53:49.976711",
   "environment_variables": {},
   "exception": null,
   "input_path": "__notebook__.ipynb",
   "output_path": "__notebook__.ipynb",
   "parameters": {},
   "start_time": "2025-05-14T19:49:02.059868",
   "version": "2.6.0"
  }
 },
 "nbformat": 4,
 "nbformat_minor": 5
}
